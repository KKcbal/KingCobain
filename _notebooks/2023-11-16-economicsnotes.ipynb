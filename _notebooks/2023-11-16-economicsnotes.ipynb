{
 "cells": [
  {
   "cell_type": "markdown",
   "metadata": {},
   "source": [
    "---\n",
    "toc: true\n",
    "layout: post\n",
    "title: Notes for economics\n",
    "description: All the notes for my economics class (hopefully)\n",
    "---"
   ]
  },
  {
   "cell_type": "markdown",
   "metadata": {},
   "source": [
    "# November 15 2023 11/15/23"
   ]
  },
  {
   "cell_type": "markdown",
   "metadata": {},
   "source": [
    "I would like to wake up in El Paso, Texas, where many of my good friends reside. It’d be nice to be able to hang out with them for a whole day. It would be cool to just walk around and goof off with each other. Walking around different stores and such can be really fun because of the people we are and what we do when we’re together. We also play a lot of games together. It’s partially because I’m in California and they’re in Texas but it’s mostly because it’s fun. Being able to buy proper hardware and games for my friends and me would be nice, so we can all play together without old computers and hard drives getting in the way. There isn’t a schedule for any of this because we should just do things based on what we feeal like. If we wanna play games, we should. If we wanna walk around, maybe shop a little, we should. The most fun I could ever have is hanging out with my friends.\n",
    "\n",
    "\n",
    "- Adventure  \n",
    "        - Walking around is an adventurous activity to do. We never really go places with a specific plan in mind, it’s usually “Let’s eat here” and we walk around to random places nearby. \n",
    "\n",
    "- Fairness  \n",
    "        - Buying games and hardware for all of my friends is fair among my friend group. Not neglecting anyone and making sure to include everyone is very important.\n",
    "\n",
    "- Friendship  \n",
    "        - It’s pretty obvious where friendship plays in this. I love my friends, and I’d prefer nothing but to hang out with them.\n",
    "        \n",
    "- Fun  \n",
    "        - I value fun things. Having fun is awesome. Video games are awesome because they’re super fun. Friends make them even better because they’re funny. \n"
   ]
  },
  {
   "cell_type": "markdown",
   "metadata": {},
   "source": [
    "# November 16 2023 11/16/23"
   ]
  },
  {
   "cell_type": "markdown",
   "metadata": {},
   "source": [
    "### Workings of a company\n",
    "Capital - tools/equipment (money to buy) (financial capital)  \n",
    "Entrepreneur - person who has the ideas and tells what to do. owns business  \n",
    "Labor - the work for parts of a business. designer, people who put together the product (literally)  \n",
    "Land - natural resources, raw materials, property/land  "
   ]
  },
  {
   "cell_type": "markdown",
   "metadata": {},
   "source": [
    "### 3 basic economic questions\n",
    "What to produce?  \n",
    "How to produce?  \n",
    "For whom to produce?  "
   ]
  },
  {
   "cell_type": "markdown",
   "metadata": {},
   "source": [
    "# November 28 2023 11/28/23"
   ]
  },
  {
   "cell_type": "markdown",
   "metadata": {},
   "source": [
    "Utility - usefulness  \n",
    "Scarcity"
   ]
  },
  {
   "cell_type": "markdown",
   "metadata": {},
   "source": [
    "### Things I could have done over the weekend:\n",
    "- Homework 6\n",
    "- Practice driving 3\n",
    "- Get my drivers permit 1\n",
    "- Code 5\n",
    "- Apply to EPCC 4\n",
    "- Hangout with friends  2"
   ]
  },
  {
   "cell_type": "markdown",
   "metadata": {},
   "source": [
    "Calculate oportunity cost  \n",
    "15 hats  \n",
    "4 hats  \n",
    "1 video  \n",
    "2 videos"
   ]
  },
  {
   "cell_type": "markdown",
   "metadata": {},
   "source": [
    "Constant opportunity cost - A straight line. y=7-x  \n",
    "increasing opportunity cost - kinda like a quarter-circle\n",
    "\n",
    "**Law of increasing opportunity cost**  \n",
    "when all resources are being used, an increase in the production of one good will lead to greater forgone production of another good"
   ]
  },
  {
   "cell_type": "markdown",
   "metadata": {},
   "source": [
    "# November 29 2023 11/29/23"
   ]
  },
  {
   "cell_type": "markdown",
   "metadata": {},
   "source": [
    "Economic System: An organized way of providing for the wants and needs of a society's people\n",
    "\n",
    "**3 main types:**  \n",
    "Traditional: Almost all economic activities are based on ritual, habit, or custom (social behaviors frequently as well)(Don't really see it on a larger scale)  \n",
    "Command: Central authority (government) makes the most economic decisions (Associated with socialist or communist)  \n",
    "Market: People and firms make the most economic decisions for own best interests (Could be more democratic, authoritarian)"
   ]
  },
  {
   "cell_type": "markdown",
   "metadata": {},
   "source": [
    "# November 30 2023 11/30/23"
   ]
  },
  {
   "cell_type": "markdown",
   "metadata": {},
   "source": [
    "Economic Freedom- make your own choices  \n",
    "Economic Efficiency- preserve scarce resources  \n",
    "Economic Equity- equal treatment and access  \n",
    "Economic Security- safety nets matter  \n",
    "Full Employment- job availability  \n",
    "Price Stability- prevent inflation  \n",
    "Economic Growth- do better with each generation"
   ]
  },
  {
   "cell_type": "markdown",
   "metadata": {},
   "source": [
    "# December 4 2023 12/4/23"
   ]
  },
  {
   "cell_type": "markdown",
   "metadata": {},
   "source": [
    "### Market Economy\n",
    "\n",
    "Markets work best:\n",
    "1. Competition - best quality, lowest price\n",
    "2. Resources free to move to where they're needed\n",
    "3. Firms are free to produce the best way they know\n",
    "\n",
    "Pure competition | Monopolistic Competition | Oligopoly | Pure Monopoly"
   ]
  },
  {
   "cell_type": "markdown",
   "metadata": {},
   "source": [
    "### Perfect (pure) competition\n",
    "*very rare structure\n",
    "\n",
    "- large number of buyers and sellers of <ins>identical</ins> products (example: agricultural industry)\n",
    "Characteristics:  \n",
    "- No control over price\n",
    "- Large number of small firms\n",
    "- identical products (perfect substitutes)\n",
    "- easy to enter and exit the market\n",
    "\n",
    "<ins>Pure competition</ins> | Monopolistic Competition | Oligopoly | Pure Monopoly"
   ]
  },
  {
   "cell_type": "markdown",
   "metadata": {},
   "source": [
    "### Law of One Price\n",
    "In an efficient market, all identical goods must have only one price.  \n",
    "Result: Each firm is a price taker and has no control over the price.\n",
    "\n",
    "**Traffic Analogy**  \n",
    "When there is heavy traffic, why do all lanes seem to go the same speed?  \n",
    "Cars leave slower lanes and enter faster lanes."
   ]
  },
  {
   "cell_type": "markdown",
   "metadata": {},
   "source": [
    "### Monopolistic Competition\n",
    "Firms sell differentiated products that are adequate substitutes  \n",
    "*More common market structure  \n",
    "examples: fast food chains, clothing companies  \n",
    "\n",
    "Characteristics:\n",
    "- limited control over price\n",
    "- large number of firms\n",
    "- differentiated products\n",
    "- few barriers to entry and exit\n",
    "- non-price competition\n",
    "\n",
    "Pure competition | <ins>Monopolistic Competition</ins> | Oligopoly | Pure Monopoly"
   ]
  },
  {
   "cell_type": "markdown",
   "metadata": {},
   "source": [
    "### Non-price Competition\n",
    "- Differentiating one's product from others\n",
    "- More profitable than lowering prices\n",
    "- Used in monopolistic competition and oligopolies\n",
    "- Examples:\n",
    "    - Packaging\n",
    "    - Features\n",
    "    - Brand name\n",
    "    - Advertising\n",
    "    - Why? to convince consumers to pay higher prices"
   ]
  },
  {
   "cell_type": "markdown",
   "metadata": {},
   "source": [
    "### Oligopoly\n",
    "- Small number of sellers dominate product market  \n",
    "*Structure found in certain markets, such as soft drinks, automobiles, cereal, cell phones\n",
    "\n",
    "Characteristics:\n",
    "- Price makers - control over price\n",
    "    - collusion - firms secretly setting prices\n",
    "- Few larger firms\n",
    "- Identical <ins>or</ins> differentiated products\n",
    "- High barriers to entry\n",
    "- Non-price competition"
   ]
  },
  {
   "cell_type": "markdown",
   "metadata": {},
   "source": [
    "### Monopoly\n",
    "**True or false?**\n",
    "\n",
    "1. All monopolies make a profit - false\n",
    "2. Monopolies are usually efficient - false\n",
    "3. All monopolies are bad for the economy - false\n",
    "4. All monopolies are illegal - false\n",
    "5. Monopolies charge the highest price possible - false\n",
    "6. The government never prevents monopolies from forming - false"
   ]
  },
  {
   "cell_type": "markdown",
   "metadata": {},
   "source": [
    "*Govt gets involved when we move towards this market structure\n",
    "\n",
    "- One seller of a product with no close substitutes\n",
    "- Government regulates to protect consumers from high prices, shortages, poor quality  \n",
    "examples: utilities, Microsoft, Standard Oil\n",
    "\n",
    "Characteristics:\n",
    "- \"Price maker\" - total control of price\n",
    "- Single firm controls the market\n",
    "- Unique product with no close substitutes\n",
    "- New firms cannot enter market\n",
    "\n",
    "Pure competition | Monopolistic Competition | Oligopoly | <ins>Pure Monopoly</ins>"
   ]
  },
  {
   "cell_type": "markdown",
   "metadata": {},
   "source": [
    "### Types of Monopolies\n",
    "\n",
    "Pure Monopoly - banned by the govt\n",
    "- one seller of a unique economic product with no close substitutes   \n",
    "examples: rare...U.S. Steel, Alcoa (aluminum)\n",
    "<br><br>\n",
    "\n",
    "Natural monopoly\n",
    "- Costs minimized by having a single firm produce  \n",
    "- Efficiency justifies this type of monopoly  \n",
    "example: electric companies, cable TV\n",
    "<br><br>\n",
    "\n",
    "Geographic Monopoly\n",
    "- Firm has no competition in its immediate area\n",
    "- Minimal population justifies this type of monopoly  \n",
    "example: rural gas station and grocery stores\n",
    "<br><br>\n",
    "\n",
    "Technological Monopoly\n",
    "- Firm or individual creates something new\n",
    "- Patents and copyrights provide incentives for inventors and artists to create  \n",
    "- Encouraging innovation justifies this monopoly  \n",
    "example: pharmaceutical drugs, songs, books, toys\n",
    "<br><br>\n",
    "\n",
    "Government Monopoly\n",
    "- Owned and operated by the government  \n",
    "example: U.S. Postal Service, state liquor stores, SD Trolley"
   ]
  }
 ],
 "metadata": {
  "language_info": {
   "name": "python"
  }
 },
 "nbformat": 4,
 "nbformat_minor": 2
}
