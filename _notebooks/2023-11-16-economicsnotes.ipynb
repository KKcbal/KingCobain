{
 "cells": [
  {
   "cell_type": "markdown",
   "metadata": {},
   "source": [
    "---\n",
    "toc: true\n",
    "layout: post\n",
    "title: Notes for economics\n",
    "description: All the notes for my economics class (hopefully)\n",
    "---"
   ]
  },
  {
   "cell_type": "markdown",
   "metadata": {},
   "source": [
    "# November 15 2023 11/15/23"
   ]
  },
  {
   "cell_type": "markdown",
   "metadata": {},
   "source": [
    "I would like to wake up in El Paso, Texas, where many of my good friends reside. It’d be nice to be able to hang out with them for a whole day. It would be cool to just walk around and goof off with each other. Walking around different stores and such can be really fun because of the people we are and what we do when we’re together. We also play a lot of games together. It’s partially because I’m in California and they’re in Texas but it’s mostly because it’s fun. Being able to buy proper hardware and games for my friends and me would be nice, so we can all play together without old computers and hard drives getting in the way. There isn’t a schedule for any of this because we should just do things based on what we feeal like. If we wanna play games, we should. If we wanna walk around, maybe shop a little, we should. The most fun I could ever have is hanging out with my friends.\n",
    "\n",
    "\n",
    "- Adventure  \n",
    "        - Walking around is an adventurous activity to do. We never really go places with a specific plan in mind, it’s usually “Let’s eat here” and we walk around to random places nearby. \n",
    "- Fairness  \n",
    "        - Buying games and hardware for all of my friends is fair among my friend group. Not neglecting anyone and making sure to include everyone is very important.\n",
    "- Friendship  \n",
    "        - It’s pretty obvious where friendship plays in this. I love my friends, and I’d prefer nothing but to hang out with them.\n",
    "- Fun  \n",
    "        - I value fun things. Having fun is awesome. Video games are awesome because they’re super fun. Friends make them even better because they’re funny. \n"
   ]
  },
  {
   "cell_type": "markdown",
   "metadata": {},
   "source": [
    "# November 16 2023 11/16/23"
   ]
  },
  {
   "cell_type": "markdown",
   "metadata": {},
   "source": [
    "### Workings of a company\n",
    "Capital - tools/equipment (money to buy) (financial capital)  \n",
    "Entrepreneur - person who has the ideas and tells what to do. owns business  \n",
    "Labor - the work for parts of a business. designer, people who put together the product (literally)  \n",
    "Land - natural resources, raw materials, property/land  "
   ]
  },
  {
   "cell_type": "markdown",
   "metadata": {},
   "source": [
    "### 3 basic economic questions\n",
    "What to produce?  \n",
    "How to produce?  \n",
    "For whom to produce?  "
   ]
  },
  {
   "cell_type": "markdown",
   "metadata": {},
   "source": [
    "# November 28 2023 11/28/23"
   ]
  },
  {
   "cell_type": "markdown",
   "metadata": {},
   "source": [
    "Utility - usefulness  \n",
    "Scarcity"
   ]
  },
  {
   "cell_type": "markdown",
   "metadata": {},
   "source": [
    "### Things I could have done over the weekend:\n",
    "- Homework 6\n",
    "- Practice driving 3\n",
    "- Get my drivers permit 1\n",
    "- Code 5\n",
    "- Apply to EPCC 4\n",
    "- Hangout with friends  2"
   ]
  },
  {
   "cell_type": "markdown",
   "metadata": {},
   "source": [
    "Calculate oportunity cost  \n",
    "15 hats  \n",
    "4 hats  \n",
    "1 video  \n",
    "2 videos"
   ]
  },
  {
   "cell_type": "markdown",
   "metadata": {},
   "source": [
    "Constant opportunity cost - A straight line. y=7-x  \n",
    "increasing opportunity cost - kinda like a quarter-circle\n",
    "\n",
    "**Law of increasing opportunity cost**  \n",
    "when all resources are being used, an increase in the production of one good will lead to greater forgone production of another good"
   ]
  }
 ],
 "metadata": {
  "language_info": {
   "name": "python"
  }
 },
 "nbformat": 4,
 "nbformat_minor": 2
}
