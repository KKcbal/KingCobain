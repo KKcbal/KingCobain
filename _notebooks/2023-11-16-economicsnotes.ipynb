{
 "cells": [
  {
   "cell_type": "markdown",
   "metadata": {},
   "source": [
    "---\n",
    "toc: true\n",
    "layout: post\n",
    "title: Notes for economics\n",
    "description: All the notes for my economics class (hopefully)\n",
    "---"
   ]
  },
  {
   "cell_type": "markdown",
   "metadata": {},
   "source": [
    "# November 16 2023 11/16/23"
   ]
  },
  {
   "cell_type": "markdown",
   "metadata": {},
   "source": [
    "### Workings of a company\n",
    "Capital - tools/equipment (money to buy) (financial capital)  \n",
    "Entrepreneur - person who has the ideas and tells what to do. owns business  \n",
    "Labor - the work for parts of a business. designer, people who put together the product (literally)  \n",
    "Land - natural resources, raw materials, property/land  "
   ]
  },
  {
   "cell_type": "markdown",
   "metadata": {},
   "source": [
    "### 3 basic economic questions\n",
    "What to produce?  \n",
    "How to produce?  \n",
    "For whom to produce?  "
   ]
  }
 ],
 "metadata": {
  "language_info": {
   "name": "python"
  }
 },
 "nbformat": 4,
 "nbformat_minor": 2
}
