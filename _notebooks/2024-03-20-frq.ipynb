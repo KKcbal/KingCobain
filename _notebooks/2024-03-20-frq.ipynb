{
 "cells": [
  {
   "cell_type": "markdown",
   "metadata": {},
   "source": [
    "# Question 1"
   ]
  },
  {
   "cell_type": "markdown",
   "metadata": {},
   "source": [
    "Situation: You are developing a banking application where you need to represent customer information. You have decided to use both primitive types and reference types for this purpose.\n",
    "\n",
    "(a) Define primitive types and reference types in Java. Provide examples of each.\n",
    "\n",
    "(b) Explain the differences between primitive types and reference types in terms of memory allocation and usage in Java programs.\n",
    "\n",
    "(c) Code:\n",
    "\n",
    "You have a method `calculateInterest` that takes a primitive `double` type representing the principal amount and a reference type `Customer` representing the customer information. Write the method signature and the method implementation. Include comments to explain your code."
   ]
  },
  {
   "cell_type": "markdown",
   "metadata": {},
   "source": [
    "(a) Primitive types are variables where, when called, the variable will call the value directly. An int will give the integer when you call it. A refrence type will return the location of the value when called rather than the value itself. Objects do that\n",
    "\n",
    "(b)"
   ]
  },
  {
   "cell_type": "code",
   "execution_count": 17,
   "metadata": {},
   "outputs": [
    {
     "name": "stdout",
     "output_type": "stream",
     "text": [
      "22.0\n",
      "30.0\n"
     ]
    }
   ],
   "source": [
    "public class Nei \n",
    "{\n",
    "    private String name;  //define customer name and money\n",
    "    private double money;\n",
    "\n",
    "    public Nei(String name, double money)  //constructor\n",
    "    {\n",
    "        this.name = name;\n",
    "        this.money = money;\n",
    "    }\n",
    "    public double getMonety()\n",
    "    {\n",
    "        return this.money; //getter for money only because i dont care about the customers name\n",
    "    }\n",
    "\n",
    "    public static double calculateInterest(double num, Nei customer) //calculates the given interest for a given customer\n",
    "    {\n",
    "        double insterest = 1 + num;   //adds 1 to the given interest so I onnly have to multiply \n",
    "        return insterest * customer.getMonety();  //return the interest multiplied by the customer's money to get the money+interest\n",
    "    }\n",
    "    public static void main(String[] args) \n",
    "    {\n",
    "        Nei customer1 = new Nei(\"John Smith\", 20);\n",
    "        System.out.println(calculateInterest(0.1, customer1));\n",
    "        System.out.println(calculateInterest(0.5, customer1));\n",
    "    }\n",
    "}\n",
    "Nei.main(null)"
   ]
  },
  {
   "cell_type": "markdown",
   "metadata": {},
   "source": [
    "# Question 5"
   ]
  },
  {
   "cell_type": "markdown",
   "metadata": {},
   "source": [
    "Situation: You are developing a simple grading system where you need to determine if a given score is passing or failing.\n",
    "\n",
    "(a) Explain the roles and usage of the if statement, while loop, and else statement in Java programming. Provide examples illustrating each.\n",
    "\n",
    "(b) Code:\n",
    "\n",
    "You need to implement a method `printGradeStatus` that takes an integer `score` as input and prints “Pass” if the score is greater than or equal to 60, and “Fail” otherwise. Write the method signature and the method implementation. Include comments to explain your code."
   ]
  },
  {
   "cell_type": "markdown",
   "metadata": {},
   "source": [
    "(a) The if statement is like a lever that switches the direction that the code is going. It's very helpful when you have code that depends on certain conditions to work. The while loop is an infinite loop that needs to be broken to continue the code. It's great for repeating code a large amount of times. The else statement is the same as the if statement, it's an alternative if the dependencies for the if statment are not met.\n",
    "\n",
    "(b)"
   ]
  },
  {
   "cell_type": "code",
   "execution_count": 3,
   "metadata": {},
   "outputs": [
    {
     "name": "stdout",
     "output_type": "stream",
     "text": [
      "Pass\n",
      "Pass\n",
      "Fail\n"
     ]
    }
   ],
   "source": [
    "public class gtrrawfe {\n",
    "\n",
    "    public static void printGradeStatus(int score) {\n",
    "        if (score >= 60) {  // if the grade is greater or equal to 60\n",
    "            System.out.println(\"Pass\");  // print pass\n",
    "        } else {  // if the grade is less than 60\n",
    "            System.out.println(\"Fail\");  // print fail\n",
    "        }\n",
    "    }\n",
    "    public static void main(String[] args) {\n",
    "        printGradeStatus(80);\n",
    "        printGradeStatus(60);\n",
    "        printGradeStatus(30);\n",
    "    }\n",
    "}\n",
    "gtrrawfe.main(null)"
   ]
  }
 ],
 "metadata": {
  "kernelspec": {
   "display_name": "Java",
   "language": "java",
   "name": "java"
  },
  "language_info": {
   "codemirror_mode": "java",
   "file_extension": ".jshell",
   "mimetype": "text/x-java-source",
   "name": "java",
   "pygments_lexer": "java",
   "version": "17.0.9+9-Ubuntu-122.04"
  }
 },
 "nbformat": 4,
 "nbformat_minor": 2
}
