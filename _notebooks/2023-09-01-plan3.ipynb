{
 "cells": [
  {
   "cell_type": "markdown",
   "metadata": {},
   "source": [
    "---\n",
    "comments: true\n",
    "layout: post\n",
    "title: Week 3 plan\n",
    "description: My plans for week 3\n",
    "type: plans\n",
    "courses: { csa: {week: 3} }\n",
    "categories: notebook\n",
    "---"
   ]
  },
  {
   "cell_type": "markdown",
   "metadata": {},
   "source": [
    "<font size=\"1\">Note: plans are not set in stone and are subject to change </font>    \n",
    "\n",
    "## Friday, week 2  \n",
    "Look over JS Itunes API, JS Input, JS Output with jquery, JS Output with API and find a way to improve or combine them.\n",
    "\n",
    "## Tuesday - Thursday\n",
    "Work on hacks for:\n",
    "- [x] JS Itunes API\n",
    "- [ ] JS Input\n",
    "- [ ] JS Output with jquery\n",
    "- [ ] JS Output with API\n",
    "\n",
    "## Friday  \n",
    "Work on rat rpg"
   ]
  }
 ],
 "metadata": {
  "language_info": {
   "name": "python"
  },
  "orig_nbformat": 4
 },
 "nbformat": 4,
 "nbformat_minor": 2
}
