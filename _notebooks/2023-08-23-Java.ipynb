{
 "cells": [
  {
   "cell_type": "markdown",
   "metadata": {},
   "source": [
    "---\n",
    "comments: true\n",
    "layout: post\n",
    "title: Java code\n",
    "description: not javascript\n",
    "type: hacks\n",
    "courses: { csa: {week: 2} }\n",
    "categories: notebook\n",
    "---"
   ]
  },
  {
   "cell_type": "markdown",
   "metadata": {},
   "source": [
    "I'm pretty sure void means it won't return any value. out means something is going out from the code into the console. println will print it's argument in a new line."
   ]
  },
  {
   "cell_type": "code",
   "execution_count": 1,
   "metadata": {},
   "outputs": [
    {
     "name": "stdout",
     "output_type": "stream",
     "text": [
      "Hello World!\n"
     ]
    }
   ],
   "source": [
    "// needed to work code\n",
    "public class HelloStatic { // name must start capitalized\n",
    "    // Java standard runtime entry point\n",
    "    public static void main(String[] args) {    // the code in main will run\n",
    "        System.out.println(\"Hello World!\"); // prints text\n",
    "    }\n",
    "}\n",
    "// A method call allows us to execute code that is wrapped in Class\n",
    "HelloStatic.main(null);   // Class prefix allows reference of Static Method"
   ]
  },
  {
   "cell_type": "markdown",
   "metadata": {},
   "source": [
    "what I think is happening is HelloObject() is a function for giving hello a value, and getHello us a function for returning the value of hello. iIn the main code, ho is given the value of HelloObject() and is printed with getHello() tacked on to it. The ho will give hello value and the getHello() tacked on returns the value of hello. "
   ]
  },
  {
   "cell_type": "code",
   "execution_count": 1,
   "metadata": {},
   "outputs": [
    {
     "name": "stdout",
     "output_type": "stream",
     "text": [
      "Hello, World!\n"
     ]
    }
   ],
   "source": [
    "// Define Class with Constructor returning Object\n",
    "public class HelloObject {\n",
    "    private String hello;   // instance attribute or variable\n",
    "    public HelloObject() {  // used to give an object data\n",
    "        hello = \"Hello, World!\";\n",
    "    }\n",
    "    public String getHello() {  // getter, returns value from inside the object\n",
    "        return this.hello;  // return String from object\n",
    "    }\n",
    "    public static void main(String[] args) {    \n",
    "        HelloObject ho = new HelloObject(); // Instance of Class (ho) is an Object via \"new HelloObject()\"\n",
    "        System.out.println(ho.getHello()); // Object allows reference to public methods and data\n",
    "    }\n",
    "}\n",
    "// IJava activation\n",
    "HelloObject.main(null);"
   ]
  },
  {
   "cell_type": "markdown",
   "metadata": {},
   "source": [
    "There's a word for this but I forgot what it was. There's two functions with the same function name, but one takes an argument and the other doesn't. The two have different code, but the system knows which one you're calling based on if there's an argument or not. To print the variable, there must be a getter or else the system won't recognize it as a variable. "
   ]
  },
  {
   "cell_type": "code",
   "execution_count": 2,
   "metadata": {},
   "outputs": [
    {
     "name": "stdout",
     "output_type": "stream",
     "text": [
      "Hello, World!\n",
      "Hello, Nighthawk Coding Society!\n"
     ]
    }
   ],
   "source": [
    "// Define Class\n",
    "public class HelloDynamic { // name the first letter of class as capitalized, note camel case\n",
    "    // instance variable have access modifier (private is most common), data type, and name\n",
    "    private String hello;\n",
    "    // constructor signature 1, public and zero arguments, constructors do not have return type\n",
    "    public HelloDynamic() {  // 0 argument constructor\n",
    "        this.setHello(\"Hello, World!\");  // using setter with static string\n",
    "    }\n",
    "    // constructor signature, public and one argument\n",
    "    public HelloDynamic(String hello) { // 1 argument constructor\n",
    "        this.setHello(hello);   // using setter with local variable passed into constructor\n",
    "    }\n",
    "    // setter/mutator, setter have void return type and a parameter\n",
    "    public void setHello(String hello) { // setter\n",
    "        this.hello = hello;     // instance variable on the left, local variable on the right\n",
    "    }\n",
    "    // getter/accessor, getter used to return private instance variable (encapsulated), return type is String\n",
    "    public String getHello() {  // getter\n",
    "        return this.hello;\n",
    "    }\n",
    "    // public static void main(String[] args) is signature for main/drivers/tester method\n",
    "    // a driver/tester method is singular or called a class method, it is never part of an object\n",
    "    public static void main(String[] args) {  \n",
    "        HelloDynamic hd1 = new HelloDynamic(); // no argument constructor\n",
    "        HelloDynamic hd2 = new HelloDynamic(\"Hello, Nighthawk Coding Society!\"); // one argument constructor\n",
    "        System.out.println(hd1.getHello()); // accessing getter\n",
    "        System.out.println(hd2.getHello()); \n",
    "    }8\n",
    "}\n",
    "// IJava activation\n",
    "HelloDynamic.main(null);"
   ]
  },
  {
   "cell_type": "code",
   "execution_count": 6,
   "metadata": {},
   "outputs": [
    {
     "name": "stdout",
     "output_type": "stream",
     "text": [
      "5\n",
      "5\n"
     ]
    }
   ],
   "source": [
    "public class Main { //this is the class, a blueprint for the objects\n",
    "    int x = 5; //this is an attribute, it is a variable within the class\n",
    "    int y = 3;\n",
    "\n",
    "    public static void main(String[] args) {\n",
    "        Main myObj = new Main();  //this is the object, it copies the class\n",
    "        Main myObj2 = new Main();\n",
    "        System.out.println(myObj.x); //this will print the value of x in the object myObj\n",
    "        System.out.println(myObj2.x);\n",
    "    }\n",
    "}\n",
    "\n",
    "Main.main(null)"
   ]
  },
  {
   "cell_type": "markdown",
   "metadata": {},
   "source": [
    "you can call a class from a different code cell."
   ]
  },
  {
   "cell_type": "code",
   "execution_count": 7,
   "metadata": {},
   "outputs": [
    {
     "name": "stdout",
     "output_type": "stream",
     "text": [
      "5\n"
     ]
    }
   ],
   "source": [
    "class Second {\n",
    "    public static void main(String[] args) {\n",
    "        Main myObj = new Main();\n",
    "        System.out.println(myObj.x);\n",
    "    }\n",
    "}\n",
    "\n",
    "Second.main(null)"
   ]
  },
  {
   "cell_type": "markdown",
   "metadata": {},
   "source": [
    "you can also add **final** before *int x;* to make the value unchangable"
   ]
  },
  {
   "cell_type": "code",
   "execution_count": 24,
   "metadata": {},
   "outputs": [
    {
     "name": "stdout",
     "output_type": "stream",
     "text": [
      "40\n",
      "40\n",
      "30\n",
      "40\n"
     ]
    }
   ],
   "source": [
    "public class Main2 { \n",
    "    int x; //you can create the function without a variable\n",
    "\n",
    "    public static void main(String[] args) {\n",
    "        Main2 myObj = new Main2();\n",
    "        Main2 myObj3 = new Main2();\n",
    "        myObj.x = 40; // and set the value later\n",
    "        myObj3.x = 40;\n",
    "        System.out.println(myObj.x);\n",
    "        System.out.println(myObj3.x);\n",
    "        myObj.x = 30; // or you could override the value (works with preset values)\n",
    "        System.out.println(myObj.x); \n",
    "        System.out.println(myObj3.x); //myObj3 value will remain unchanged when myObj value is changed\n",
    "    }\n",
    "}\n",
    "\n",
    "Main2.main(null)"
   ]
  },
  {
   "cell_type": "markdown",
   "metadata": {},
   "source": [
    "A class can have any number of attributes"
   ]
  },
  {
   "cell_type": "code",
   "execution_count": 23,
   "metadata": {},
   "outputs": [
    {
     "name": "stdout",
     "output_type": "stream",
     "text": [
      "Name: John Smith\n",
      "Age: 30\n"
     ]
    }
   ],
   "source": [
    "public class Name {\n",
    "    String fname = \"John\";\n",
    "    String lname = \"Smith\";\n",
    "    int age = 30;\n",
    "\n",
    "    public static void main(String[] args) {\n",
    "        Name myObj = new Name();\n",
    "        System.out.println(\"Name: \" + myObj.fname + \" \" + myObj.lname);\n",
    "        System.out.println(\"Age: \" + myObj.age);\n",
    "    }\n",
    "}\n",
    "\n",
    "Name.main(null)"
   ]
  },
  {
   "cell_type": "markdown",
   "metadata": {},
   "source": [
    "methods in java seem to work similar to functions in javascript and python. static and public have different functions. static can be accessed without objects and public can only accessed through objects"
   ]
  },
  {
   "cell_type": "code",
   "execution_count": 1,
   "metadata": {},
   "outputs": [
    {
     "name": "stdout",
     "output_type": "stream",
     "text": [
      "Hello World!\n"
     ]
    }
   ],
   "source": [
    "public class Methodss {\n",
    "    static void myMethod() { //this static part\n",
    "      System.out.println(\"Hello World!\");\n",
    "    }\n",
    "\n",
    "    public static void main(String[] args) {\n",
    "      myMethod();\n",
    "    }\n",
    "}\n",
    "Methodss.main(null)"
   ]
  },
  {
   "cell_type": "markdown",
   "metadata": {},
   "source": [
    "you can access multiple methods thorugh objects."
   ]
  },
  {
   "cell_type": "code",
   "execution_count": 3,
   "metadata": {},
   "outputs": [
    {
     "name": "stdout",
     "output_type": "stream",
     "text": [
      "The car is going as fast as it can!\n",
      "Max speed is: 200\n"
     ]
    }
   ],
   "source": [
    "public class Methosd {\n",
    "    public void fullThrottle() {\n",
    "      System.out.println(\"The car is going as fast as it can!\");\n",
    "    }\n",
    "  \n",
    "    public void speed(int maxSpeed) {\n",
    "      System.out.println(\"Max speed is: \" + maxSpeed);\n",
    "    }\n",
    "  \n",
    "    public static void main(String[] args) {\n",
    "      Methosd myCar = new Methosd();\n",
    "      myCar.fullThrottle();\n",
    "      myCar.speed(200);\n",
    "    }\n",
    "}\n",
    "Methosd.main(null)"
   ]
  },
  {
   "cell_type": "code",
   "execution_count": 7,
   "metadata": {},
   "outputs": [
    {
     "name": "stdout",
     "output_type": "stream",
     "text": [
      "5\n"
     ]
    }
   ],
   "source": [
    "public class CONSTRUCTORSS {\n",
    "    int x;\n",
    "  \n",
    "    public CONSTRUCTORSS(int y) {\n",
    "      x = y;  //this constructor will give x the desired value when creating an object\n",
    "    }\n",
    "    // you can use as many parameters as you want\n",
    "    public static void main(String[] args) {\n",
    "        CONSTRUCTORSS myObj = new CONSTRUCTORSS(5); // x now has the value of 5 in myObj\n",
    "      System.out.println(myObj.x);\n",
    "    }\n",
    "}\n",
    "CONSTRUCTORSS.main(null)"
   ]
  },
  {
   "cell_type": "markdown",
   "metadata": {},
   "source": [
    "this is called encapsulation, the value of name can only be changed and accessed through setters and getters"
   ]
  },
  {
   "cell_type": "code",
   "execution_count": 8,
   "metadata": {},
   "outputs": [
    {
     "name": "stdout",
     "output_type": "stream",
     "text": [
      "John\n"
     ]
    }
   ],
   "source": [
    "public class Person {\n",
    "    private String name; // private = restricted access\n",
    "  \n",
    "    // Getter\n",
    "    public String getName() {\n",
    "      return name;\n",
    "    }\n",
    "  \n",
    "    // Setter\n",
    "    public void setName(String newName) {\n",
    "      this.name = newName;\n",
    "    }\n",
    "\n",
    "    public static void main(String[] args) {\n",
    "        Person myObj = new Person();\n",
    "        myObj.setName(\"John\"); // Set the value of the name variable to \"John\"\n",
    "        System.out.println(myObj.getName());\n",
    "      }\n",
    "}\n",
    "Person.main(null)"
   ]
  },
  {
   "cell_type": "markdown",
   "metadata": {},
   "source": [
    "## take inputs"
   ]
  },
  {
   "cell_type": "code",
   "execution_count": null,
   "metadata": {},
   "outputs": [],
   "source": [
    "import java.util.Scanner;  // Import the Scanner class\n",
    "\n",
    "class Main {\n",
    "  public static void main(String[] args) {\n",
    "    Scanner myObj = new Scanner(System.in);  // Create a Scanner object\n",
    "    System.out.println(\"Enter username\");\n",
    "\n",
    "    String userName = myObj.nextLine();  // Read user input\n",
    "    System.out.println(\"Username is: \" + userName);  // Output user input\n",
    "  }\n",
    "}\n",
    "Main.main(null)"
   ]
  }
 ],
 "metadata": {
  "kernelspec": {
   "display_name": "Java",
   "language": "java",
   "name": "java"
  },
  "language_info": {
   "codemirror_mode": "java",
   "file_extension": ".jshell",
   "mimetype": "text/x-java-source",
   "name": "java",
   "pygments_lexer": "java",
   "version": "11.0.20+8-post-Ubuntu-1ubuntu122.04"
  },
  "orig_nbformat": 4
 },
 "nbformat": 4,
 "nbformat_minor": 2
}
