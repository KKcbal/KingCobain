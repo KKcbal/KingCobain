{
 "cells": [
  {
   "cell_type": "markdown",
   "metadata": {},
   "source": [
    "---\n",
    "toc: true\n",
    "layout: post\n",
    "title: Notes for World Literature\n",
    "description: some notes for world lit\n",
    "---"
   ]
  },
  {
   "cell_type": "markdown",
   "metadata": {},
   "source": [
    "I started to get this error when I was trying to use the assignment request page. This was an actual error and I didn't know what was happening so I put up some breakpoints. Toby was very helpful throughout the whole process.  \n",
    "<img src=\"{{site.baseurl}}/images/debugging-1.png\">  \n",
    "\n",
    "\n",
    "I started stepping through the code to see if I could find where the error occurs  \n",
    "<img src=\"{{site.baseurl}}images/debugging-2.png\">  \n",
    "\n",
    "\n",
    "The error was found but it didn't tell much. Toby asked me if I was running the backend locally, but I had the frontend requesting from the deployed backend.  \n",
    "<img src=\"{{site.baseurl}}images/debugging-3.png\">  \n",
    "\n",
    "\n",
    "I started requesting from the backend locally and forgot to screenshot a picture of a cors error I got, but here's a picture of the fixed securityconfig after I pulled from the backend. The backend I was running was an old version that had specific URLs allowed, but the version I pulled allowed any origin.  \n",
    "<img src=\"{{site.baseurl}}images/debugging-4.png\">  \n",
    "\n",
    "\n",
    "After I fixed the cors error, I found that the local backend ran properly. This was very perplexing. The below picture is an object that's printed in the console too make sure things are working.  \n",
    "<img src=\"{{site.baseurl}}images/debugging-5.png\">    \n",
    "\n",
    "\n",
    "My code was supposed to request a class leader using an id, so I asked Drew if the class leaders are created upon deploying or if they need to be added manually. He told me they are created upon running the backend and also that the backend was not deployed. Here is a picture of the backend being down. My code worked properly, the backend just wasn't up.  \n",
    "<img src=\"{{site.baseurl}}images/debugging-6.png\">  "
   ]
  }
 ],
 "metadata": {
  "language_info": {
   "name": "python"
  }
 },
 "nbformat": 4,
 "nbformat_minor": 2
}
