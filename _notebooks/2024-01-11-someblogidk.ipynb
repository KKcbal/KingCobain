{
 "cells": [
  {
   "cell_type": "markdown",
   "metadata": {},
   "source": [
    "---\n",
    "title: An individual review\n",
    "layout: post\n",
    "week: 17\n",
    "description: Some blog that we have to do\n",
    "comments: true\n",
    "categories: notebook\n",
    "---"
   ]
  },
  {
   "cell_type": "markdown",
   "metadata": {},
   "source": [
    "# Projects\n",
    "These are some of my past projects:\n",
    "\n",
    "[Cafegato](https://drewreed2005.github.io/cafegato/) was a good one. It's the project I'm most proud of and might still keep working on. I made a text-based rpg where the main characters are cats. The RPG is pretty simple, but a lot of work went into it's inner-mechanisms. \n",
    "[Movie chat](https://athriius.github.io/FreeMoviesHindiDub/) was a cool project. I don't really remember much of working on the project, but me and Luke worked on it a lot. We didn't have specific big features, we worked on small things here and there. The website doesn't work anymore\n",
    "[Classroom Jukebox](https://classroomjukebox.com) is the most recent project. This was a pretty big one because we had a pretty big team. I worked on the statistics for this site, but I wasn't able to connect it to the frontend. "
   ]
  }
 ],
 "metadata": {
  "language_info": {
   "name": "python"
  }
 },
 "nbformat": 4,
 "nbformat_minor": 2
}
