{
 "cells": [
  {
   "cell_type": "markdown",
   "metadata": {},
   "source": [
    "---\n",
    "title: For and While Loop Notes\n",
    "toc: true\n",
    "comments: true\n",
    "layout: default\n",
    "description: Notes I took on for loops and while loops for the lesson we making\n",
    "courses: { csa: {week: 7} }\n",
    "type: hacks\n",
    "---"
   ]
  },
  {
   "cell_type": "markdown",
   "metadata": {},
   "source": [
    "# while loop\n",
    "\n",
    "## loop control variable\n",
    "You know the i variable that you use for while/for loops? It actually has a name, loop control variable"
   ]
  },
  {
   "cell_type": "code",
   "execution_count": 1,
   "metadata": {},
   "outputs": [
    {
     "name": "stdout",
     "output_type": "stream",
     "text": [
      "Doing some code\n",
      "Doing some code\n",
      "Doing some code\n",
      "Doing some code\n",
      "Doing some code\n",
      "Doing some code\n",
      "Doing some code\n",
      "Doing some code\n",
      "Doing some code\n",
      "Doing some code\n"
     ]
    }
   ],
   "source": [
    "public static void main(String[] args) {\n",
    "    int i = 0; // initialize loop control variable\n",
    "    while (i < 10)  // checks the loop control variable\n",
    "    {\n",
    "        System.out.println(\"Doing some code\");\n",
    "        i++;  // update the loop control variable\n",
    "    }\n",
    "}\n",
    "main(null)"
   ]
  },
  {
   "cell_type": "markdown",
   "metadata": {},
   "source": [
    "## Infinite loop  \n",
    "an infinite loop is when a while loop always evaluates to true. avoid this when you can because it's probably not good for your computer. if this happens by accident, i reccomend copying all code in the block and deleting the block. After you delete the code block, close and reopen the tab that the code block was in."
   ]
  },
  {
   "cell_type": "markdown",
   "metadata": {},
   "source": [
    "**What's wrong with this code block?**"
   ]
  },
  {
   "cell_type": "code",
   "execution_count": null,
   "metadata": {},
   "outputs": [],
   "source": [
    "public static void main(String[] args) {\n",
    "    while (true)\n",
    "    {\n",
    "        System.out.print(\"CONTROL \");\n",
    "    }\n",
    "}\n",
    "// DO NOT RUN THE CODE"
   ]
  },
  {
   "cell_type": "markdown",
   "metadata": {},
   "source": [
    "## Do While loop\n",
    "  \n",
    "**What will this code block output?**"
   ]
  },
  {
   "cell_type": "code",
   "execution_count": null,
   "metadata": {},
   "outputs": [],
   "source": [
    "// Quite shrimple\n",
    "public static void main(String[] args) {\n",
    "    int i = 0;\n",
    "    do \n",
    "    {\n",
    "        System.out.print(\"Quite shrimple. \");\n",
    "        i++;\n",
    "    }\n",
    "    while (i < -5);\n",
    "}\n",
    "main(null)"
   ]
  },
  {
   "cell_type": "markdown",
   "metadata": {},
   "source": [
    "In a do while loop, it will run the \"do\" once before it reaches the \"while\", and at that point it will start to act like a while loop. "
   ]
  },
  {
   "cell_type": "markdown",
   "metadata": {},
   "source": [
    "# for loop\n",
    "this is the standard structure of a for loop"
   ]
  },
  {
   "cell_type": "code",
   "execution_count": null,
   "metadata": {},
   "outputs": [],
   "source": [
    "public static void main(String[] args) {\n",
    "    for (initialization; Boolean expression; update)\n",
    "    {\n",
    "        System.out.println(\"Doing some code\");\n",
    "    }\n",
    "}"
   ]
  },
  {
   "cell_type": "markdown",
   "metadata": {},
   "source": [
    "initialization will run at the start of the loop, boolean expression will get checked with every loop, and update runs after every loop.  "
   ]
  },
  {
   "cell_type": "markdown",
   "metadata": {},
   "source": [
    "**How many times will this code print \"Doing some code?\"**"
   ]
  },
  {
   "cell_type": "code",
   "execution_count": null,
   "metadata": {},
   "outputs": [],
   "source": [
    "public static void main(String[] args) {\n",
    "    for (int num = 1; num <= 5; num++)\n",
    "    {\n",
    "        System.out.println(\"Doing some code\");\n",
    "    }\n",
    "}\n",
    "main(null)"
   ]
  },
  {
   "cell_type": "markdown",
   "metadata": {},
   "source": [
    "In this code, it creates the variable *num* at the start of the loop, it checks if *num* is less than or equal to 5 after each loop, and it adds 1 to *num* after each loop."
   ]
  },
  {
   "cell_type": "markdown",
   "metadata": {},
   "source": [
    "## Enhanced for loop  \n",
    "this is essentially a javascript for loop, as it will iterate through a list and run code in the loop to each variable inside the list"
   ]
  },
  {
   "cell_type": "code",
   "execution_count": 22,
   "metadata": {},
   "outputs": [
    {
     "name": "stdout",
     "output_type": "stream",
     "text": [
      "2 1 5 3 8 "
     ]
    }
   ],
   "source": [
    "public static void main(String[] args) {\n",
    "    ArrayList<Integer> list = new ArrayList<Integer>();\n",
    "    list.add(2);\n",
    "    list.add(1);\n",
    "    list.add(5);\n",
    "    list.add(3);\n",
    "    list.add(8);\n",
    "    for (int j : list)\n",
    "    {\n",
    "        System.out.print(j);\n",
    "        System.out.print(\" \");\n",
    "    }\n",
    "}\n",
    "main(null)"
   ]
  },
  {
   "cell_type": "markdown",
   "metadata": {},
   "source": [
    "## Break and Continue\n",
    "In java there are breaks, but there are also continues. "
   ]
  },
  {
   "cell_type": "markdown",
   "metadata": {},
   "source": [
    "### Break  \n",
    "Breaks, as you likely already know, end a loop. They tend to be used with an *if* statement"
   ]
  },
  {
   "cell_type": "markdown",
   "metadata": {},
   "source": [
    "**How many times will this code print \"Big guy?\"**"
   ]
  },
  {
   "cell_type": "code",
   "execution_count": 1,
   "metadata": {},
   "outputs": [
    {
     "name": "stdout",
     "output_type": "stream",
     "text": [
      "Big guy\n",
      "Big guy\n",
      "Big guy\n",
      "Big guy\n",
      "Big guy\n"
     ]
    }
   ],
   "source": [
    "public static void main(String[] args) {\n",
    "    int i = 0; \n",
    "    while (i < 10) \n",
    "    {\n",
    "        System.out.println(\"Big guy\");\n",
    "        i++;  \n",
    "        if (i == 5) {\n",
    "            break;\n",
    "        }\n",
    "    }\n",
    "}\n",
    "main(null)"
   ]
  },
  {
   "cell_type": "markdown",
   "metadata": {},
   "source": [
    "### Continue  \n",
    "Continue will skip code for an iteration, but will still keep the loop running"
   ]
  },
  {
   "cell_type": "code",
   "execution_count": 3,
   "metadata": {},
   "outputs": [
    {
     "name": "stdout",
     "output_type": "stream",
     "text": [
      "0\n",
      "1\n",
      "2\n",
      "3\n",
      "4\n",
      "\n",
      "6\n",
      "7\n",
      "8\n",
      "9\n"
     ]
    }
   ],
   "source": [
    "public static void main(String[] args) {\n",
    "    int i = 0; \n",
    "    while (i < 10) \n",
    "    {\n",
    "        if (i == 5) {\n",
    "            i++; // don't forget this, it creates an error similar to an infinite loop\n",
    "            System.out.println(\"\");\n",
    "            continue;\n",
    "        }\n",
    "        System.out.println(i);\n",
    "        i++;  \n",
    "    }\n",
    "}\n",
    "main(null)"
   ]
  },
  {
   "cell_type": "markdown",
   "metadata": {},
   "source": []
  },
  {
   "cell_type": "markdown",
   "metadata": {},
   "source": []
  },
  {
   "cell_type": "markdown",
   "metadata": {},
   "source": []
  },
  {
   "cell_type": "markdown",
   "metadata": {},
   "source": []
  },
  {
   "cell_type": "markdown",
   "metadata": {},
   "source": []
  },
  {
   "cell_type": "markdown",
   "metadata": {},
   "source": []
  },
  {
   "cell_type": "markdown",
   "metadata": {},
   "source": []
  },
  {
   "cell_type": "markdown",
   "metadata": {},
   "source": [
    "# Hacks\n",
    "\n",
    "- Complete the 3 questions above\n",
    "- Complete the 4 questions below\n",
    "- Fix the loops below"
   ]
  },
  {
   "cell_type": "markdown",
   "metadata": {},
   "source": [
    "What is the order for the header of a for loop?  \n",
    "What is the order for the header of an enhanced for loop?  \n",
    "How do you stop an infinite loop?  \n",
    "What is the name of the i that everyone uses with loops?  "
   ]
  },
  {
   "cell_type": "code",
   "execution_count": null,
   "metadata": {},
   "outputs": [],
   "source": [
    "public static void main(String[] args)\n",
    "{\n",
    "    int number = 5;\n",
    "    while (number > 100)\n",
    "    {\n",
    "        System.out.print(number + \" \");\n",
    "        number += 5;\n",
    "    }\n",
    "}\n",
    "main(null)"
   ]
  },
  {
   "cell_type": "code",
   "execution_count": null,
   "metadata": {},
   "outputs": [],
   "source": [
    "public static void main(String[] args) {\n",
    "    int i = 0; \n",
    "    while (i < 10) \n",
    "    {\n",
    "        if (i == 5) {\n",
    "            continue;\n",
    "        }\n",
    "        System.out.println(i);\n",
    "        i++;  \n",
    "    }\n",
    "}\n",
    "main(null)"
   ]
  },
  {
   "cell_type": "code",
   "execution_count": null,
   "metadata": {},
   "outputs": [],
   "source": [
    "public static void main(String[] args)\n",
    "{\n",
    "    int value = 10;\n",
    "    while (value >= 0)\n",
    "    {\n",
    "        System.out.print(value);\n",
    "        value++;\n",
    "    }\n",
    "}\n",
    "main(null)\n"
   ]
  }
 ],
 "metadata": {
  "kernelspec": {
   "display_name": "Java",
   "language": "java",
   "name": "java"
  },
  "language_info": {
   "codemirror_mode": "java",
   "file_extension": ".jshell",
   "mimetype": "text/x-java-source",
   "name": "java",
   "pygments_lexer": "java",
   "version": "11.0.20+8-post-Ubuntu-1ubuntu122.04"
  },
  "orig_nbformat": 4
 },
 "nbformat": 4,
 "nbformat_minor": 2
}
