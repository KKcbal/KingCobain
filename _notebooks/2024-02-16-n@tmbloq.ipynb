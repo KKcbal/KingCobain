{
 "cells": [
  {
   "cell_type": "markdown",
   "metadata": {},
   "source": [
    "---\n",
    "toc: true\n",
    "layout: notebook\n",
    "title: N@tM Blog\n",
    "description: blog\n",
    "type: hacks\n",
    "courses: { csa: {week: 19} }\n",
    "---"
   ]
  },
  {
   "cell_type": "markdown",
   "metadata": {},
   "source": [
    "## Two Trimester Focus Planning\n",
    "\n",
    "### How did we use N@tM to capture test data?\n",
    "\n",
    "We presented out project to a lot of people and taught them how each part works. After letting them mess around with the website, we asked them about UI feedback and new features we could add.\n",
    "\n",
    "One piece of feedback we will definitely employ in our website is dumbing down the UI. We're supposed to be Canvas but better, and one thing that would make us better is having an easy to understand UI. Someone also said to make the website louder, that might be fun.\n",
    "\n",
    "One feature we have been planning to add is Kahoot-like quizzes. We want to add live quizzes like Kahoot, but we also want offline quizzes that work similar to kahoot.\n",
    "\n",
    "## Blog/Article on You and Team\n",
    "\n",
    "We did well presenting our website. A lot of people came around and I think we sold it pretty well. We should have done a bit more testing before. Toby's QR Codes broke early in and my Assignment Creation was fixed right before 6:00\n",
    "\n",
    "<img src=\"images/1000002224.jpg\">\n",
    "<img src=\"images/1000002230.jpg\">\n",
    "<img src=\"images/IMG_4560.jpg\">\n",
    "<img src=\"images/IMG_4562.jpg\">\n",
    "<div style=\"display: flex; flex-direction: row\">\n",
    "    <img>\n",
    "    <img>\n",
    "    <img>\n",
    "    <img>\n",
    "</div>"
   ]
  }
 ],
 "metadata": {
  "language_info": {
   "name": "python"
  }
 },
 "nbformat": 4,
 "nbformat_minor": 2
}
