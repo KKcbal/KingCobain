{
 "cells": [
  {
   "cell_type": "markdown",
   "metadata": {},
   "source": [
    "---\n",
    "comments: true\n",
    "layout: post\n",
    "title: Week 4 plan\n",
    "description: My plans for week 4\n",
    "type: plans\n",
    "courses: { csa: {week: 4} }\n",
    "categories: notebook\n",
    "---"
   ]
  },
  {
   "cell_type": "markdown",
   "metadata": {},
   "source": [
    "<font size=\"1\">Note: plans are not set in stone and are subject to change </font>    \n",
    "\n",
    "## Monday\n",
    "Tech talk\n",
    "\n",
    "## Tuesday \n",
    "Work on 2022 FRQ #1\n",
    "\n",
    "## Wednesday-Thursday\n",
    "Tech talk\n",
    "\n",
    "## Friday\n",
    "Work on 2022 FRQ #1"
   ]
  }
 ],
 "metadata": {
  "language_info": {
   "name": "python"
  },
  "orig_nbformat": 4
 },
 "nbformat": 4,
 "nbformat_minor": 2
}
