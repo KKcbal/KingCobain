{
 "cells": [
  {
   "cell_type": "markdown",
   "metadata": {},
   "source": [
    "---\n",
    "title: Workshop 2 Hacks\n",
    "description: Classes Workshop Hacks\n",
    "toc: true\n",
    "layout: post\n",
    "type: hacks\n",
    "comments: true\n",
    "---"
   ]
  },
  {
   "cell_type": "markdown",
   "metadata": {},
   "source": [
    "# Free Response Questions\n",
    "\n",
    "## Question 1 - Pojos and Access Control:\n",
    "Situation: The school librarian wants to create a program that stores all of the books within the library in a database and is used to manage their inventory of books available to the students. You decided to put your amazing code skills to work and help out the librarian!\n",
    "\n",
    "**a. Describe the key differences between the private and public access controllers and how it affects a POJO**\n",
    "\n",
    "Private variables or methods are only accessible from inside the same class. If I had two classes, pooFart1 and pooFart2, and made a private variable Poo in pooFart1, then I could not access variable poo from pooFart2. An object could not have it's data tampered with if it were private. POJOs could be more secure, but you could no longer access them in other classes\n",
    "\n",
    "**b. Identify a scenario when you would use the private vs. public access controllers that isn't the one given in the scenario above**\n",
    "\n",
    "If you're making a little game or something, the data stored wouldn't be so important so using public might be more convenient. Public means it's easier to access the variables and you can use them in other classes if needed. If you're working with more sensitive data, like the personal information of a human, than private may be more appropriate.\n",
    "\n",
    "**c. Create a Book class that represents the following attributes about a book: title, author, date published, person holding the book and make sure that the objects are using a POJO, the proper getters and setters and are secure from any other modifications that the program makes later to the objects**\n"
   ]
  },
  {
   "cell_type": "code",
   "execution_count": 3,
   "metadata": {
    "vscode": {
     "languageId": "java"
    }
   },
   "outputs": [
    {
     "name": "stdout",
     "output_type": "stream",
     "text": [
      "Asher Rivera, an Autobiography\n",
      "Asher Rivera\n",
      "Tue Mar 26 12:18:28 PDT 2024\n",
      "AJ Ruiz\n"
     ]
    }
   ],
   "source": [
    "import java.util.Date;\n",
    "\n",
    "class Book {\n",
    "    private String title;\n",
    "    private String author;\n",
    "    private Date datePublished;\n",
    "    private String personHoldingBook;\n",
    "\n",
    "    public Book(String title, String author, Date datePublished, String personHoldingBook) \n",
    "    {\n",
    "        this.title = title;\n",
    "        this.author = author;\n",
    "        this.datePublished = datePublished;\n",
    "        this.personHoldingBook = personHoldingBook;\n",
    "    }\n",
    "\n",
    "    public String getTitle() \n",
    "    {\n",
    "        return this.title;\n",
    "    }\n",
    "    public String getAuthor() \n",
    "    {\n",
    "        return this.author;\n",
    "    }\n",
    "    public Date getDatePublished()\n",
    "    {\n",
    "        return this.datePublished;\n",
    "    }\n",
    "    public String getPersonHoldingBook() \n",
    "    {\n",
    "        return this.personHoldingBook;\n",
    "    }\n",
    "\n",
    "    public static void main(String[] args) \n",
    "    {\n",
    "        Book book1 = new Book(\"Asher Rivera, an Autobiography\", \"Asher Rivera\", new Date(), \"AJ Ruiz\");\n",
    "        System.out.println(book1.getTitle());\n",
    "        System.out.println(book1.getAuthor());\n",
    "        System.out.println(book1.getDatePublished());\n",
    "        System.out.println(book1.getPersonHoldingBook());\n",
    "    }\n",
    "}\n",
    "Book.main(null)"
   ]
  },
  {
   "cell_type": "markdown",
   "metadata": {},
   "source": [
    "## Question 2 - Writing Classes:\n",
    "\n",
    "(a) Describe the different features needed to create a class and what their purpose is.\n",
    "\n",
    "Do you really need any features? You could write ```class empty{}``` and it would work.\n",
    "\n",
    "(b) Code:\n",
    "\n",
    "Create a Java class BankAccount to represent a simple bank account. This class should have the following attributes:\n",
    "- accountHolder (String): The name of the account holder.\n",
    "- balance (double): The current balance in the account.\n",
    "Implement the following mutator (setter) methods for the BankAccount class:\n",
    "- setAccountHolder(String name): Sets the name of the account holder.\n",
    "- deposit(double amount): Deposits a given amount into the account.\n",
    "- withdraw(double amount): Withdraws a given amount from the account, but only if the withdrawal amount is less than or equal to the current balance.\n",
    "Ensure that the balance is never negative."
   ]
  },
  {
   "cell_type": "code",
   "execution_count": 7,
   "metadata": {
    "vscode": {
     "languageId": "java"
    }
   },
   "outputs": [
    {
     "name": "stdout",
     "output_type": "stream",
     "text": [
      "Your total is now $20.1\n",
      "Your total is now $21.25\n",
      "you don't have that much money\n",
      "Your total is now $16.25\n"
     ]
    }
   ],
   "source": [
    "class Bank {\n",
    "    private String accountHolder;\n",
    "    private double balance;\n",
    "\n",
    "    public void setAccountHolder(String name) {\n",
    "        this.accountHolder = name;\n",
    "    }\n",
    "    public void deposit(double amount) {\n",
    "        this.balance += amount;\n",
    "        System.out.println(\"Your total is now $\" + this.balance);\n",
    "    }\n",
    "    public void withdraw(double amount) {\n",
    "        if (this.balance >= amount) {\n",
    "            this.balance -= amount;\n",
    "            System.out.println(\"Your total is now $\" + this.balance);\n",
    "        } else {\n",
    "            System.out.println(\"you don't have that much money\");\n",
    "        }\n",
    "    }\n",
    "\n",
    "    public static void main(String[] args) {\n",
    "        Bank customer = new Bank();\n",
    "        customer.setAccountHolder(\"John Smith\");\n",
    "        customer.deposit(20.10);\n",
    "        customer.deposit(1.15);\n",
    "        customer.withdraw(100000);\n",
    "        customer.withdraw(5);\n",
    "    }\n",
    "}\n",
    "Bank.main(null)"
   ]
  },
  {
   "cell_type": "markdown",
   "metadata": {},
   "source": [
    "## Question 3 - Instantiation of a Class\n",
    "\n",
    "**(a) Explain how a constructor works, including when it runs and what generally is done within a constructor.**\n",
    "\n",
    "A constructor is a shortcut for creating an object. WHen you define the variables a class will have, you'll need to input a value for each of those variables individually, but with a constructor, you can input the values for each within a single line. It would probably run when you call it. In a constructor, it will generally just be those lines you would have typed individually without a constructor. It'll be a few ```this.variable = variable```, which would set the value of an variable in the object.\n",
    "\n",
    "**(b) Create an example of an overloaded constructor within a class. You must use at least three variables. Include the correct initialization of variables and correct headers for the constructor. Then, run the constructor at least twice with different variables and demonstrate that these two objects called different constructors.** "
   ]
  },
  {
   "cell_type": "code",
   "execution_count": 2,
   "metadata": {
    "vscode": {
     "languageId": "java"
    }
   },
   "outputs": [
    {
     "name": "stdout",
     "output_type": "stream",
     "text": [
      "5\n",
      "4.5\n",
      "3 Hello\n",
      "2 Goodbye 1.15\n"
     ]
    }
   ],
   "source": [
    "class Sinep {\n",
    "    public int x;\n",
    "    public String y;\n",
    "    public double z;\n",
    "\n",
    "    public Sinep(int x) {\n",
    "        this.x = x;\n",
    "    }\n",
    "    public Sinep(int x, String y) {\n",
    "        this.x = x;\n",
    "        this.y = y;\n",
    "    }\n",
    "    public Sinep(double z) {\n",
    "        this.z = z;\n",
    "    }\n",
    "    public Sinep(int x, String y, double z) {\n",
    "        this.x = x;\n",
    "        this.y = y;\n",
    "        this.z = z;\n",
    "    }\n",
    "\n",
    "    public static void main(String[] args) {\n",
    "        Sinep obj = new Sinep(5);\n",
    "        Sinep pojo = new Sinep(4.5);\n",
    "        Sinep pogo = new Sinep(3, \" Hello\");\n",
    "        Sinep bogo = new Sinep(2, \" Goodbye \", 1.15);\n",
    "\n",
    "        System.out.println(obj.x);\n",
    "        System.out.println(pojo.z);\n",
    "        System.out.println(pogo.x + pogo.y);\n",
    "        System.out.println(bogo.x + bogo.y + bogo.z);\n",
    "    }\n",
    "}\n",
    "Sinep.main(null)"
   ]
  },
  {
   "cell_type": "markdown",
   "metadata": {},
   "source": [
    "## Question 4 - Wrapper Classes:\n",
    "\n",
    "(a) Provide a brief summary of what a wrapper class is and provide a small code block showing a basic example of a wrapper class.\n",
    "\n",
    "(b) Create a Java wrapper class called Temperature to represent temperatures in Celsius. Your Temperature class should have the following features:\n",
    "\n",
    "Fields:\n",
    "\n",
    "A private double field to store the temperature value in Celsius.\n",
    "\n",
    "\n",
    "Constructor:\n",
    "\n",
    "A constructor that takes a double value representing the temperature in Celsius and initializes the field.\n",
    "\n",
    "\n",
    "Methods:\n",
    "\n",
    "getTemperature(): A method that returns the temperature value in Celsius.\n",
    "setTemperature(double value): A method that sets a new temperature value in Celsius.\n",
    "toFahrenheit(): A method that converts the temperature from Celsius to Fahrenheit and returns the result as a double value. "
   ]
  },
  {
   "cell_type": "code",
   "execution_count": null,
   "metadata": {
    "vscode": {
     "languageId": "java"
    }
   },
   "outputs": [],
   "source": []
  },
  {
   "cell_type": "markdown",
   "metadata": {},
   "source": [
    "## Question 5 - Inheritence:\n",
    "\n",
    "Situation: You are developing a program to manage a zoo, where various types of animals are kept in different enclosures. To streamline your code, you decide to use inheritance to model the relationships between different types of animals and their behaviors.\n",
    "\n",
    "(a) Explain the concept of inheritance in Java. Provide an example scenario where inheritance is useful.\n",
    "\n",
    "(b) Code:\n",
    "\n",
    "You need to implement a Java class hierarchy to represent different types of animals in the zoo. Create a superclass Animal with basic attributes and methods common to all animals, and at least three subclasses representing specific types of animals with additional attributes and methods. Include comments to explain your code, specifically how inheritance is used.\n"
   ]
  },
  {
   "cell_type": "code",
   "execution_count": null,
   "metadata": {
    "vscode": {
     "languageId": "java"
    }
   },
   "outputs": [],
   "source": []
  }
 ],
 "metadata": {
  "kernelspec": {
   "display_name": "Java",
   "language": "java",
   "name": "java"
  },
  "language_info": {
   "codemirror_mode": "java",
   "file_extension": ".jshell",
   "mimetype": "text/x-java-source",
   "name": "Java",
   "pygments_lexer": "java",
   "version": "17.0.9+9-Ubuntu-122.04"
  }
 },
 "nbformat": 4,
 "nbformat_minor": 2
}
