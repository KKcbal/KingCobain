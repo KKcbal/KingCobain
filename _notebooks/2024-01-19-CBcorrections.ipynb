{
 "cells": [
  {
   "cell_type": "markdown",
   "metadata": {},
   "source": [
    "---\n",
    "title: An individual review\n",
    "layout: post\n",
    "week: 17\n",
    "description: Some blog that we have to do\n",
    "comments: true\n",
    "---"
   ]
  },
  {
   "cell_type": "markdown",
   "metadata": {},
   "source": [
    "### Q9 Generate random value of number cubes  \n",
    "My Answer: `(int) (Math.random() * 6) + (int) (Math.random() * 6)`  \n",
    "The Answer: `2 + (int) (Math.random() * 6) + (int) (Math.random() * 6)`  \n",
    "`Math.random()*6` Will give a value of 0-5. I thought it was 1-6."
   ]
  },
  {
   "cell_type": "markdown",
   "metadata": {},
   "source": []
  }
 ],
 "metadata": {
  "language_info": {
   "name": "python"
  }
 },
 "nbformat": 4,
 "nbformat_minor": 2
}
