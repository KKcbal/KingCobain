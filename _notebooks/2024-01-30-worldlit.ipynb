{
 "cells": [
  {
   "cell_type": "markdown",
   "metadata": {},
   "source": [
    "---\n",
    "toc: true\n",
    "layout: post\n",
    "title: Notes for World Literature\n",
    "description: some notes for world lit\n",
    "---"
   ]
  },
  {
   "cell_type": "markdown",
   "metadata": {},
   "source": [
    "# Elements of Magical Realism\n",
    "\n",
    "**Definition**: Latin-American narrative strategy that is characterized by the matter-of-fact inclusion of fantastic or mythical elements into seemingly realistic fiction\n",
    "\n",
    "# Elements of Magical Realism\n",
    "\n",
    "1. Realism/Realistic setting - Unlike fantasy, magical realism always had a setting that has realistic. believable elements like historical characters or events\n",
    "2. Magical elements with limited information - nobody questions the magic! And it is never explained!\n",
    "3. Time and Identity - Characters change into other characters or the line between the living and dead may be blurred\n",
    "4. Humor and exaggeration - incorporated humor, satire, and over-exaggerated for descriptive purposes\n",
    "5. Political or social critique"
   ]
  }
 ],
 "metadata": {
  "language_info": {
   "name": "python"
  }
 },
 "nbformat": 4,
 "nbformat_minor": 2
}
