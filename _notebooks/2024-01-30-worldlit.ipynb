{
 "cells": [
  {
   "cell_type": "markdown",
   "metadata": {},
   "source": [
    "---\n",
    "toc: true\n",
    "layout: post\n",
    "title: Notes for World Literature\n",
    "description: some notes for world lit\n",
    "---"
   ]
  },
  {
   "cell_type": "markdown",
   "metadata": {},
   "source": [
    "# Elements of Magical Realism\n",
    "\n",
    "**Definition**: Latin-American narrative strategy that is characterized by the matter-of-fact inclusion of fantastic or mythical elements into seemingly realistic fiction\n",
    "\n",
    "# Elements of Magical Realism\n",
    "\n",
    "1. Realism/Realistic setting - Unlike fantasy, magical realism always had a setting that has realistic. believable elements like historical characters or events\n",
    "2. Magical elements with limited information - nobody questions the magic! And it is never explained!\n",
    "3. Time and Identity - Characters change into other characters or the line between the living and dead may be blurred\n",
    "4. Humor and exaggeration - incorporated humor, satire, and over-exaggerated for descriptive purposes\n",
    "5. Political or social critique"
   ]
  },
  {
   "cell_type": "markdown",
   "metadata": {},
   "source": [
    "# sheep\n",
    "\n",
    "- Sheep\n",
    "    - Judging their blind obedience\n",
    "    - They are his key to travel\n",
    "\n",
    "\n",
    "This photo resembles the sheeps life. Everyday they do the same thing, and they don't really want or do anything to change it. This photo doesn't only apply to the sheep, though. Almost everybody lives this life; the same routine everyday, school, work, family, repeat. I think this is definitely true for many many people, but I don't often feel this way. Doing som recrerational activities, even if they're a daily routine, can bring happiness. Escaping this routine isn't too hard. If you put a lot of thought, effort and passion into something you want to do, you can easily"
   ]
  },
  {
   "cell_type": "markdown",
   "metadata": {},
   "source": [
    "- People are \"spiritual\" by living life in a meaningful way, but they do not want to be \"religious\" by adhering to the dogma of any one religion.\n",
    "    - Unlike atheism (rejection of religion), spiritual people do not necessarily reject religion in favor of rationalism or science\n",
    "- Because spiritual identities are fluid, ritual and practices vary from person to person. rituals often center meaning-making and personal experience"
   ]
  },
  {
   "cell_type": "markdown",
   "metadata": {},
   "source": [
    "- Personal Legend\n",
    "    - Life's purpose - connection to spirituality\n",
    "    - Lose sign or find fear\n",
    "        - What makes life fulfilling?\n",
    "            - Concerns for others opinions - thats what prevents people\n",
    "            - We judge others to distract from our own issues - introspection\n",
    "            - look at simple pleasures"
   ]
  },
  {
   "cell_type": "markdown",
   "metadata": {},
   "source": [
    "- Obstacle\n",
    "    - Takes 1 instancce and makes sweeping assumption\n",
    "    - giving up and is a failure\n",
    "    - logic - expects linear path\n",
    "    - no personal responsibility"
   ]
  }
 ],
 "metadata": {
  "language_info": {
   "name": "python"
  }
 },
 "nbformat": 4,
 "nbformat_minor": 2
}
