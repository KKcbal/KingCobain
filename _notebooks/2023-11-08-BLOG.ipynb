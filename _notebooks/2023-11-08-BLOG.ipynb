{
 "cells": [
  {
   "cell_type": "markdown",
   "metadata": {},
   "source": [
    "---\n",
    "toc: true\n",
    "layout: post\n",
    "title: Tri 1 Final Blog\n",
    "description: the lesson for the unit 0\n",
    "courses: { csa: {week: '12'} }\n",
    "type: hacks\n",
    "---"
   ]
  },
  {
   "cell_type": "markdown",
   "metadata": {},
   "source": [
    "# College Board"
   ]
  },
  {
   "cell_type": "markdown",
   "metadata": {},
   "source": [
    "I did the college board quiz and got all the questions right.  \n",
    "\n",
    "![collegeanswewrs]({{ site.baseurl }}/images/collegeboardmcq1.png)\n",
    "\n",
    "i didn't write down the questions that I searched up but it was basically all of them. "
   ]
  },
  {
   "cell_type": "markdown",
   "metadata": {},
   "source": [
    "# Trimester 1 Reflection"
   ]
  },
  {
   "cell_type": "markdown",
   "metadata": {},
   "source": [
    "I remember my team standing meetings well. I want to learn more Java in the future. java is a very versitile coding language and I would love to learn more about it. An accomplishment was getting the statistics files to work. The Java was complicated for those files but I was able to get them to work and even understand them a little. I want to learn more Java oriented for game making. making games is fun, and its nice to do little personal projects. it's also a good way to learn the language, and it was how I learned Javascript/Python."
   ]
  },
  {
   "cell_type": "markdown",
   "metadata": {},
   "source": [
    "# Grades "
   ]
  },
  {
   "cell_type": "markdown",
   "metadata": {},
   "source": [
    "Unit 5-6  |  1.46  \n",
    "Unit 7-8  |  1.85  \n",
    "Unit 9-10  |  1.10  "
   ]
  }
 ],
 "metadata": {
  "language_info": {
   "name": "python"
  }
 },
 "nbformat": 4,
 "nbformat_minor": 2
}
