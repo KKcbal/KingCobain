{
 "cells": [
  {
   "cell_type": "markdown",
   "metadata": {},
   "source": [
    "---\n",
    "toc: true\n",
    "layout: post\n",
    "title: Notes for Composition (English)\n",
    "description: Place to take notes for the semester\n",
    "---"
   ]
  },
  {
   "cell_type": "markdown",
   "metadata": {},
   "source": [
    "# August 30 2024 - 8/30/2024"
   ]
  },
  {
   "cell_type": "markdown",
   "metadata": {},
   "source": [
    "Types of essays:\n",
    "- Persuasive\n",
    "- Research\n",
    "- explanatory\n",
    "\n",
    "## What is an essay?\n",
    "1. investigates, informs and/or argues for a particular way to understand something\n",
    "2. can help  \"answer\" a question\n",
    "3. told in an interesting way\n",
    "\n",
    "### Introduction\n",
    "Includes:\n",
    "- name of text and author\n",
    "- studies\n",
    "- relevant dates\n",
    "- specify or define terms\n",
    "- major conflicts and events\n",
    "- symbols or concepts\n",
    "- thesis\n",
    "\n",
    "#### Framing, tone and language\n",
    "**Popular**: style, exposition, expressive, anecdote, personal, subjective (More opinionated)\n",
    "\n",
    "**Academic**: form, argumentative, informative, analysis, study, technical, objective (More factual)\n",
    "\n",
    "### Thesis\n",
    "The thesis statement is a sentence that clearly states a position and briefly mentions the supporting reasons that will follow throughout the paper\n",
    "\n",
    "Claim - This should be the stance you take on a subject  \n",
    "Stakes - Prove to the  \n",
    "Support\n",
    "\n",
    "### Paragraphs\n",
    "Includes:\n",
    "- Topic sentence\n",
    "- main idea\n",
    "- support\n",
    "- transition into a new idea\n",
    "\n",
    "#### elements of the essay\n",
    "- Topic sentence\n",
    "- Supporting evidence\n",
    "- transitions\n",
    "    - Causation\n",
    "    - Chronology\n",
    "\n",
    "### Conclusion\n",
    "Recap main ideas in one paragraph\n",
    "keep the language simple and consider the implication of what you learned\n",
    "\n",
    "### Tips\n",
    "Read essay guidelines carefully\n",
    "review your notes\n",
    "remember to write with an audience in mind\n",
    "stay on topic\n",
    "decide which ideas are simple or complex"
   ]
  },
  {
   "cell_type": "markdown",
   "metadata": {},
   "source": [
    "# today\n",
    "\n",
    "Point of View\n",
    "1st: I - Me - Myself\n",
    "2nd: You23\n",
    "3rd: They - Them - She - He"
   ]
  },
  {
   "cell_type": "markdown",
   "metadata": {},
   "source": [
    "# September 16 2024 - 9/16/2024"
   ]
  },
  {
   "cell_type": "markdown",
   "metadata": {},
   "source": [
    "Intuition: Your unconscious guide, and instinctive suspicion that believes in structure and meaning  \n",
    "\n",
    "## What makes being a human so special?\\*  \n",
    "\\*affect - a fekt: an experience of emotion that produces some change\n",
    "\n",
    "Affect is perhaps the most difficult plane of human life to describe.\n",
    "\n",
    "## \"Infer\" Information\n",
    "What happens in your head when you read?\n",
    "\n",
    "- Authors seldom tell uou exactly what they mean  \n",
    "    - suggest, avoid and imply\n",
    "- Figurative language\n",
    "    - Symbolism, Metaphor & Simile, Personification, Hyperbole, Irony\n",
    "\n",
    "1. Think about the occasion of her visit. Is it significant?\n",
    "    - j\n",
    "2. Does the title help us understand anything?\n",
    "    - a\n",
    "3. What can you infer from her memoir?\n",
    "    - m\n",
    "\n",
    "\n",
    "## Grammar & Style\n",
    "\n",
    "Figurative language - a figure-of-speech is a language tool that we use to help readers visualize what's happening in a story\n",
    "\n",
    "Personification - to attribute human qualities to some-*thing*  \n",
    "metaphor - compares two unlike things without using \"like\" or \"as\"  \n",
    "simile - compares two unlike things using \"like\" or \"as\"  \n",
    "hyperbole - an extreme exaggeration  \n",
    "\n",
    "### Metaphors & Similes\n",
    "- Make simple ideas more vivid\n",
    "- Convey complex ideas in a few words\n",
    "- Confusing concepts in simple terms"
   ]
  },
  {
   "cell_type": "markdown",
   "metadata": {},
   "source": [
    "# September 20 2024"
   ]
  },
  {
   "cell_type": "markdown",
   "metadata": {},
   "source": [
    "| Sentence | type | example |\n",
    "| -------- | ---- | ------- |\n",
    "| Independent | Simple | His truck is way to noisy |\n",
    "| Independent <br> + <br> Independent | Compound | it was getting dark in the small town and the moon was rising fast |\n",
    "| independent <br> + <br> Fragment | Complex | when they hired her last year, the team knew about this problem |\n",
    "\n",
    "Run-on sentences\n",
    "Fused sentence - has no punctuation to mark the break between complete ideas\n",
    "comma splice - use a comma to connect two complete ideas\n",
    "\n",
    "How to correct a run-on\n",
    ", -  separate with puncuation\n",
    "since - subordination conjunction\n",
    ", and - add comma & conjunction\n",
    "; - add semicolon"
   ]
  },
  {
   "cell_type": "markdown",
   "metadata": {},
   "source": [
    "# September 23 2024"
   ]
  },
  {
   "cell_type": "markdown",
   "metadata": {},
   "source": [
    "Rhetorical Devices\n",
    "Symbolism - where a word, character, object or image, is used to represent something beyond it's literal meaning\n",
    "- technique to produce complexity\n",
    "- meaning on 'different levels'\n",
    "allegory - where characters, events, objects or settings are used symbolically to represent real-life thematic ideas, mnoral qualities, or concepts.\n",
    "- help convey moral lessons\n",
    "- depict social commentary indirectly"
   ]
  },
  {
   "cell_type": "markdown",
   "metadata": {},
   "source": [
    "# September 25 2024"
   ]
  },
  {
   "cell_type": "markdown",
   "metadata": {},
   "source": [
    "## lottery notes\n",
    "\n",
    "really old tradition  \n",
    "not many in the village are opposed to it  \n",
    "Maybe for entertainment in the past  \n",
    "multiple villages had this tradition  \n",
    "some villages have stopped the tradition  \n",
    "maybe serves some religious purpose  \n",
    "\n",
    "### lottery questions\n",
    "\n",
    "1. Just a tradition that their ancestors created, perhaps for entertainment\n",
    "2. Maybe entertainment or to prevent overpopulation\n",
    "3. probably Mr. Summers\n",
    "\n",
    "## MLA\n",
    "\n",
    "Quotes - validate your arguments, add depth, and introduce authoritative voices.\n",
    "\n",
    "Short Quote - less than 4 lines of text  \n",
    "Box Quote - longer than 4 lines  \n",
    "Double quote - a quote that is quoting something else (use a pair of apostrophes ' ' inside the quote)  \n",
    "periods, exclamation marks and question marks go on the inside of the quote  \n",
    "\n",
    "- Provide context\n",
    "- Vary your introductions\n",
    "- blend with your voice\n",
    "\n",
    "Entire quote - james baldwin writes \"not everthing that is faced can be changed, but nothing can be changed intil it is faced\"\n",
    "partial quote - as james baldwin suggests, \"not everthing that is faced can be changed\"\n",
    "fragment - baldwins idea that little \"can be changed until it is faced\" proves the...\n",
    "\n",
    "### Follow-up\n",
    "always follow up a quote with \n",
    "\n",
    "### common mistakes\n",
    "Quote dumping\n",
    "over-quoting\n",
    "incorrect citation"
   ]
  },
  {
   "cell_type": "markdown",
   "metadata": {},
   "source": [
    "# September 30 2024"
   ]
  },
  {
   "cell_type": "markdown",
   "metadata": {},
   "source": [
    "The Memoir\n",
    "\n",
    "| preface | memory | change | meaning | future |\n",
    "| ------- | ------ | ------ | ------- | ------ |\n",
    "| define your main idea | is this a process or event | interpret how you changed after this moment | can you tie it to your interpretation of a story | suggest what this means for you |"
   ]
  },
  {
   "cell_type": "markdown",
   "metadata": {},
   "source": [
    "# October 7 2024"
   ]
  },
  {
   "cell_type": "markdown",
   "metadata": {},
   "source": [
    "## Hyperbole\n",
    "it is another figure-of-speech that stretches the truth to emphasize a point"
   ]
  },
  {
   "cell_type": "markdown",
   "metadata": {},
   "source": [
    "# October 9 2024"
   ]
  },
  {
   "cell_type": "markdown",
   "metadata": {},
   "source": [
    "verse - a lyric that refers to the entire poem or a single line  \n",
    "stanza - a grouped set of lines in a poem, separated by a space"
   ]
  },
  {
   "cell_type": "markdown",
   "metadata": {},
   "source": [
    "{ Well, son, I'll tell you:  \n",
    "Life for me ain't been no crystal stair. ]- Verse  \n",
    "It's had tacks in it,  \n",
    "And splinters,  \n",
    "And boards torn up,  \n",
    "And places with no carpet on the floor-  \n",
    "Bare. }- Stanza"
   ]
  },
  {
   "cell_type": "markdown",
   "metadata": {},
   "source": [
    "Enjambment - \"To stride over,\" or a line that continually flows into the next  \n",
    "Caesura - a pause set in the middle of a line: comma, dash or period"
   ]
  }
 ],
 "metadata": {
  "language_info": {
   "name": "python"
  }
 },
 "nbformat": 4,
 "nbformat_minor": 2
}
