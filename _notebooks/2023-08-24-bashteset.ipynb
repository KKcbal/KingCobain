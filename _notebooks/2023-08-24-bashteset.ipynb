{
 "cells": [
  {
   "cell_type": "markdown",
   "metadata": {},
   "source": [
    "---\n",
    "comments: true\n",
    "layout: post\n",
    "title: Bash Test\n",
    "description: This is the bash test\n",
    "type: hacks\n",
    "courses: { csse: {week: 1}, csp: {week: 1}, csa: {week: 1} }\n",
    "categories: notebook\n",
    "---"
   ]
  },
  {
   "cell_type": "code",
   "execution_count": 1,
   "metadata": {
    "vscode": {
     "languageId": "shellscript"
    }
   },
   "outputs": [
    {
     "name": "stdout",
     "output_type": "stream",
     "text": [
      "Using conditional statement to create a project directory and project\n"
     ]
    },
    {
     "name": "stdout",
     "output_type": "stream",
     "text": [
      "Directory /home/kkcbal/vscode exists.\n",
      "Directory /home/kkcbal/vscode/Asher exists.\n"
     ]
    }
   ],
   "source": [
    "echo \"Using conditional statement to create a project directory and project\"\n",
    "\n",
    "# Variable section\n",
    "export project_dir=$HOME/vscode  # change vscode to different name to test git clone\n",
    "export project=$project_dir/Asher  # change APCSP to name of project from git clone\n",
    "export project_repo=\"https://github.com/KKcbal/Asher\"  # change to project of choice\n",
    "\n",
    "cd ~    # start in home directory\n",
    "\n",
    "# Conditional block to make a project directory\n",
    "if [ ! -d $project_dir ]\n",
    "then \n",
    "    echo \"Directory $project_dir does not exists... makinng directory $project_dir\"\n",
    "    mkdir -p $project_dir\n",
    "fi\n",
    "echo \"Directory $project_dir exists.\" \n",
    "\n",
    "# Conditional block to git clone a project from project_repo\n",
    "if [ ! -d $project ]\n",
    "then\n",
    "    echo \"Directory $project does not exists... cloning $project_repo\"\n",
    "    cd $project_dir\n",
    "    git clone $project_repo\n",
    "    cd ~\n",
    "fi\n",
    "echo \"Directory $project exists.\" "
   ]
  },
  {
   "cell_type": "code",
   "execution_count": 2,
   "metadata": {
    "vscode": {
     "languageId": "shellscript"
    }
   },
   "outputs": [
    {
     "name": "stdout",
     "output_type": "stream",
     "text": [
      "Navigate to project, then navigate to area wwhere files were cloned\n",
      "/home/kkcbal/vscode/Asher\n",
      "\n",
      "list top level or root of files with project pulled from github\n",
      "Gemfile       Makefile     \u001b[0m\u001b[01;34m_data\u001b[0m      \u001b[01;34m_notebooks\u001b[0m  \u001b[01;32mactivate.sh\u001b[0m  index.md\n",
      "Gemfile.lock  README.md    \u001b[01;34m_includes\u001b[0m  \u001b[01;34m_posts\u001b[0m      csa.md       indexBlogs.md\n",
      "LICENSE       _config.yml  \u001b[01;34m_layouts\u001b[0m   \u001b[01;34m_site\u001b[0m       \u001b[01;34mimages\u001b[0m       \u001b[01;34mscripts\u001b[0m\n",
      "\n",
      "list again with hidden files pulled from github\n",
      "\u001b[0m\u001b[01;34m.\u001b[0m        .gitignore    Makefile     \u001b[01;34m_includes\u001b[0m   \u001b[01;34m_site\u001b[0m        index.md\n",
      "\u001b[01;34m..\u001b[0m       Gemfile       README.md    \u001b[01;34m_layouts\u001b[0m    \u001b[01;32mactivate.sh\u001b[0m  indexBlogs.md\n",
      "\u001b[01;34m.git\u001b[0m     Gemfile.lock  _config.yml  \u001b[01;34m_notebooks\u001b[0m  csa.md       \u001b[01;34mscripts\u001b[0m\n",
      "\u001b[01;34m.github\u001b[0m  LICENSE       \u001b[01;34m_data\u001b[0m        \u001b[01;34m_posts\u001b[0m      \u001b[01;34mimages\u001b[0m\n",
      "\n",
      "list all files in long format\n",
      "total 100\n",
      "drwxr-xr-x 12 kkcbal kkcbal 4096 Aug 23 12:22 \u001b[0m\u001b[01;34m.\u001b[0m\n",
      "drwxr-xr-x 14 kkcbal kkcbal 4096 Aug 24 11:13 \u001b[01;34m..\u001b[0m\n",
      "drwxr-xr-x  8 kkcbal kkcbal 4096 Aug 23 12:42 \u001b[01;34m.git\u001b[0m\n",
      "drwxr-xr-x  3 kkcbal kkcbal 4096 Aug 18 11:31 \u001b[01;34m.github\u001b[0m\n",
      "-rw-r--r--  1 kkcbal kkcbal  104 Aug 18 11:31 .gitignore\n",
      "-rw-r--r--  1 kkcbal kkcbal  122 Aug 18 11:31 Gemfile\n",
      "-rw-r--r--  1 root   root   7293 Aug 18 11:46 Gemfile.lock\n",
      "-rw-r--r--  1 kkcbal kkcbal 1081 Aug 18 11:31 LICENSE\n",
      "-rw-r--r--  1 kkcbal kkcbal 3114 Aug 18 11:31 Makefile\n",
      "-rw-r--r--  1 kkcbal kkcbal 5798 Aug 18 11:31 README.md\n",
      "-rw-r--r--  1 kkcbal kkcbal  431 Aug 23 12:30 _config.yml\n",
      "drwxr-xr-x  2 kkcbal kkcbal 4096 Aug 18 11:31 \u001b[01;34m_data\u001b[0m\n",
      "drwxr-xr-x  2 kkcbal kkcbal 4096 Aug 18 11:31 \u001b[01;34m_includes\u001b[0m\n",
      "drwxr-xr-x  2 kkcbal kkcbal 4096 Aug 18 11:31 \u001b[01;34m_layouts\u001b[0m\n",
      "drwxr-xr-x  2 kkcbal kkcbal 4096 Aug 24 11:22 \u001b[01;34m_notebooks\u001b[0m\n",
      "drwxr-xr-x  2 kkcbal kkcbal 4096 Aug 23 12:33 \u001b[01;34m_posts\u001b[0m\n",
      "drwxr-xr-x  7 kkcbal kkcbal 4096 Aug 23 12:34 \u001b[01;34m_site\u001b[0m\n",
      "-rwxr-xr-x  1 kkcbal kkcbal 1291 Aug 18 11:31 \u001b[01;32mactivate.sh\u001b[0m\n",
      "-rw-r--r--  1 kkcbal kkcbal   92 Aug 18 11:31 csa.md\n",
      "drwxr-xr-x  2 kkcbal kkcbal 4096 Aug 18 11:57 \u001b[01;34mimages\u001b[0m\n",
      "-rw-r--r--  1 kkcbal kkcbal  258 Aug 18 11:59 index.md\n",
      "-rw-r--r--  1 kkcbal kkcbal   53 Aug 18 11:31 indexBlogs.md\n",
      "drwxr-xr-x  3 kkcbal kkcbal 4096 Aug 18 11:31 \u001b[01;34mscripts\u001b[0m\n"
     ]
    }
   ],
   "source": [
    "# You must run cells above to define variable and project\n",
    "\n",
    "echo \"Navigate to project, then navigate to area wwhere files were cloned\"\n",
    "cd $project\n",
    "pwd\n",
    "\n",
    "echo \"\"\n",
    "echo \"list top level or root of files with project pulled from github\"\n",
    "ls\n",
    "\n",
    "echo \"\"\n",
    "echo \"list again with hidden files pulled from github\"\n",
    "ls -a   # hidden files flag, many shell commands have flags\n",
    "\n",
    "echo \"\"\n",
    "echo \"list all files in long format\"\n",
    "ls -al   # all files and long listing"
   ]
  },
  {
   "cell_type": "code",
   "execution_count": 3,
   "metadata": {
    "vscode": {
     "languageId": "shellscript"
    }
   },
   "outputs": [
    {
     "name": "stdout",
     "output_type": "stream",
     "text": [
      "Look for posts\n",
      "/home/kkcbal/vscode/Asher/_posts\n",
      "total 24\n",
      "-rw-r--r-- 1 kkcbal kkcbal 1812 Aug 18 11:31 2023-08-15-Tools_Sprint.md\n",
      "-rw-r--r-- 1 kkcbal kkcbal 4397 Aug 18 11:31 2023-08-16-Tools_Equipment.md\n",
      "-rw-r--r-- 1 kkcbal kkcbal  468 Aug 18 11:31 2023-08-21-GitHub_Pages.md\n",
      "-rw-r--r-- 1 kkcbal kkcbal    0 Aug 22 11:47 calculator.css\n",
      "-rw-r--r-- 1 kkcbal kkcbal 1084 Aug 22 11:47 calculator.html\n",
      "-rw-r--r-- 1 kkcbal kkcbal    0 Aug 22 11:47 calculator.js\n",
      "-rw-r--r-- 1 kkcbal kkcbal   16 Aug 23 12:37 calculator.md\n"
     ]
    }
   ],
   "source": [
    "# You must run cells above to define variable and project\n",
    "\n",
    "echo \"Look for posts\"\n",
    "export posts=$project/_posts  # _posts inside project\n",
    "cd $posts  # this should exist per fastpages\n",
    "pwd  # present working directory\n",
    "ls -l  # list posts"
   ]
  },
  {
   "cell_type": "code",
   "execution_count": 4,
   "metadata": {
    "vscode": {
     "languageId": "shellscript"
    }
   },
   "outputs": [
    {
     "name": "stdout",
     "output_type": "stream",
     "text": [
      "Look for notebooks\n",
      "/home/kkcbal/vscode/Asher/_notebooks\n",
      "total 48\n",
      "-rw-r--r-- 1 kkcbal kkcbal  5415 Aug 18 11:31 2023-08-17-AP-pseudo-vs-python.ipynb\n",
      "-rw-r--r-- 1 kkcbal kkcbal  8615 Aug 18 11:31 2023-08-21-VSCode-GitHub_Pages.ipynb\n",
      "-rw-r--r-- 1 kkcbal kkcbal     0 Aug 23 12:38 2023-08-23-Java.ipynb\n",
      "-rw-r--r-- 1 kkcbal kkcbal 27253 Aug 24 11:21 2023-08-24-bashteset.ipynb\n"
     ]
    }
   ],
   "source": [
    "# You must run cells above to define variable and project\n",
    "\n",
    "echo \"Look for notebooks\"\n",
    "export notebooks=$project/_notebooks  # _notebooks is inside project\n",
    "cd $notebooks   # this should exist per fastpages\n",
    "pwd  # present working directory\n",
    "ls -l  # list notebooks"
   ]
  },
  {
   "cell_type": "code",
   "execution_count": 5,
   "metadata": {
    "vscode": {
     "languageId": "shellscript"
    }
   },
   "outputs": [
    {
     "name": "stdout",
     "output_type": "stream",
     "text": [
      "Look for images in notebooks, print working directory, list files\n",
      "bash: cd: /home/kkcbal/vscode/Asher/_notebooks/images: No such file or directory\n",
      "/home/kkcbal/vscode/Asher/_notebooks\n",
      "total 48\n",
      "-rw-r--r-- 1 kkcbal kkcbal  5415 Aug 18 11:31 2023-08-17-AP-pseudo-vs-python.ipynb\n",
      "-rw-r--r-- 1 kkcbal kkcbal  8615 Aug 18 11:31 2023-08-21-VSCode-GitHub_Pages.ipynb\n",
      "-rw-r--r-- 1 kkcbal kkcbal     0 Aug 23 12:38 2023-08-23-Java.ipynb\n",
      "-rw-r--r-- 1 kkcbal kkcbal 27253 Aug 24 11:21 2023-08-24-bashteset.ipynb\n"
     ]
    }
   ],
   "source": [
    "# You must run cells above to define notebooks location\n",
    "\n",
    "echo \"Look for images in notebooks, print working directory, list files\"\n",
    "cd $notebooks/images  # this should exist per fastpages\n",
    "pwd\n",
    "ls -l"
   ]
  },
  {
   "cell_type": "code",
   "execution_count": 6,
   "metadata": {
    "vscode": {
     "languageId": "shellscript"
    }
   },
   "outputs": [
    {
     "name": "stdout",
     "output_type": "stream",
     "text": [
      "Navigate to project, then navigate to area wwhere files were cloned\n",
      "show the contents of README.md\n",
      "\n",
      "## Blog site using GitHub Pages and Jekyll\n",
      "> This site is intended for Students.   This is to record plans, complete hacks, and do work for your learnings.\n",
      "- This can be customized to support computer science as you work through pathway (JavaScript, Python/Flask, Java/Spring)\n",
      "- All tangible artifact work is in a _posts or in a _notebooks.  \n",
      "- Front matter (aka meta data) in ipynb and md files is used to organize information according to week and column in running web site.\n",
      "\n",
      "## GitHub Pages\n",
      "All `GitHub Pages` websites are managed on GitHub infrastructure. GitHub uses `Jekyll` to tranform your content into static websites and blogs. Each time we change files in GitHub it initiates a GitHub Action that rebuilds and publishes the site with Jekyll.  \n",
      "- GitHub Pages is powered by: [Jekyll](https://jekyllrb.com/).\n",
      "- Publised teacher website: [nighthawkcoders.github.io/teacher](https://nighthawkcoders.github.io/teacher/)\n",
      "\n",
      "## Preparing a Preview Site \n",
      "In all development, it is recommended to test your code before deployment.  The GitHub Pages development process is optimized by testing your development on your local machine, prior to files on GitHub\n",
      "\n",
      "Development Cycle. For GitHub pages, the tooling described below will create a development cycle  `make-code-save-preview`.  In the development cycle, it is a requirement to preview work locally, prior to doing a VSCode `commit` to git.\n",
      "\n",
      "Deployment Cycle.  In the deplopyment cycle, `sync-github-action-review`, it is a requirement to complete the development cycle prior to doing a VSCode `sync`.  The sync triggers github repository update.  The action starts the jekyll build to publish the website.  Any step can have errors and will require you to do a review.\n",
      "\n",
      "### WSL and/or Ubuntu installation requirements\n",
      "- The result of these step is Ubuntu tools to run preview server.  These procedures were created using [jekyllrb.com](https://jekyllrb.com/docs/installation/ubuntu/)\n",
      "- Run scripts in scripts directory of teacher repo: setup_ubuntu.sh and activate.sh.  Or, follow commands below.\n",
      "```bash\n",
      "## WSL/Ubuntu commands\n",
      "# sudo apt install, installs packages for Ubuntu\n",
      "echo \"=== Ugrade Packages ===\"\n",
      "sudo apt update\n",
      "sudo apt upgrade -y\n",
      "#\n",
      "echo \"=== Install Ruby ===\"\n",
      "sudo apt install -y ruby-full build-essential zlib1g-dev\n",
      "# \n",
      "echo \"=== Install Python ===\"\n",
      "sudo apt-get install -y python3 python3-pip python-is-python3\n",
      "#    \n",
      "echo \"=== Install Jupyter Notebook ===\"\n",
      "sudo apt-get install -y jupyter-notebook\n",
      "\n",
      "# bash commands, install user requirements.\n",
      "echo \"=== GitHub pages build tools  ===\"\n",
      "export GEM_HOME=\"$HOME/gems\"\n",
      "export PATH=\"$HOME/gems/bin:$PATH\"\n",
      "echo '# Install Ruby Gems to ~/gems' >> ~/.bashrc\n",
      "echo 'export GEM_HOME=\"$HOME/gems\"' >> ~/.bashrc\n",
      "echo 'export PATH=\"$HOME/gems/bin:$PATH\"' >> ~/.bashrc\n",
      "echo \"=== Gem install starting, thinking... ===\"\n",
      "gem install jekyll bundler\n",
      "head -30 ./teacher/scripts/activate.sh\n",
      "echo \"=== !!!Start a new Terminal!!! ===\"\n",
      "```\n",
      "\n",
      "### MacOs installation requirements \n",
      "- Ihe result of these step are MacOS tools to run preview server.  These procedures were created using [jekyllrb.com](https://jekyllrb.com/docs/installation/macos/). Run scripts in scripts directory of teacher repo: setup_macos.sh and activate_macos.sh.  Or, follow commands below.\n",
      "```bash\n",
      "# MacOS commands\n",
      "# brew install, installs packages for MacOS\n",
      "echo \"=== Ugrade Packages ===\"\n",
      "brew update\n",
      "brew upgrade\n",
      "#\n",
      "echo \"=== Install Ruby ===\"\n",
      "brew install chruby ruby-install xz\n",
      "ruby-install ruby 3.1.3\n",
      "#\n",
      "echo \"=== Install Python ===\"\n",
      "brew install python\n",
      "#    \n",
      "echo \"=== Install Jupyter Notebook ===\"\n",
      "brew install jupyter\n",
      "\n",
      "# bash commands, install user requirements.\n",
      "export GEM_HOME=\"$HOME/gems\"\n",
      "export PATH=\"$HOME/gems/bin:$PATH\"\n",
      "echo '# Install Ruby Gems to ~/gems' >> ~/.zshrc\n",
      "echo 'export GEM_HOME=\"$HOME/gems\"' >> ~/.zshrc\n",
      "echo 'export PATH=\"$HOME/gems/bin:$PATH\"' >> ~/.zshrc\n",
      "echo \"=== Gem install starting, thinking... ===\"\n",
      "gem install jekyll bundler\n",
      "head -30 ./teacher/scripts/activate.sh\n",
      "echo \"=== !!!Start a new Terminal!!! ===\"\n",
      "```\n",
      "\n",
      "### Preview\n",
      "- The result of these step is server running on: http://0.0.0.0:4100/teacher/.  Regeneration messages will run in terminal on any save.  Press the Enter or Return key in the terminal at any time to enter commands.\n",
      "\n",
      "- Complete installation\n",
      "```bash\n",
      "bundle install\n",
      "```\n",
      "- Run Server.  This requires running terminal commands `make`, `make stop`, `make clean`, or `make convert` to manage the running server.  Logging of details will appear in terminal.   A `Makefile` has been created in project to support commands and start processes.\n",
      "\n",
      "    - Start preview server in terminal\n",
      "    ```bash\n",
      "    cd ~/vscode/teacher  # my project location, adapt as necessary\n",
      "    make\n",
      "    ```\n",
      "\n",
      "    - Terminal output of shows server address. Cmd or Ctl click http location to open preview server in browser. Example Server address message... \n",
      "    ```\n",
      "    Server address: http://0.0.0.0:4100/teacher/\n",
      "    ```\n",
      "\n",
      "    - Save on ipynb or md activiates \"regeneration\". Refresh browser to see updates. Example terminal message...\n",
      "    ```\n",
      "    Regenerating: 1 file(s) changed at 2023-07-31 06:54:32\n",
      "        _notebooks/2024-01-04-cockpit-setup.ipynb\n",
      "    ```\n",
      "\n",
      "    - Terminal message are generated from background processes.  Click return or enter to obtain prompt and use terminal as needed for other tasks.  Alway return to root of project `cd ~/vscode/teacher` for all \"make\" actions. \n",
      "        \n",
      "\n",
      "    - Stop preview server, but leave constructed files in project for your review.\n",
      "    ```bash\n",
      "    make stop\n",
      "    ```\n",
      "\n",
      "    - Stop server and \"clean\" constructed files, best choice when renaming files to eliminate potential duplicates in constructed files.\n",
      "    ```bash\n",
      "    make clean\n",
      "    ```\n",
      "\n",
      "    - Test notebook conversions, best choice to see if IPYNB conversion is acting up.\n",
      "    ```bash\n",
      "    make convert\n",
      "    ```\n",
      "\n",
      "end of README.md\n"
     ]
    }
   ],
   "source": [
    "# You must run cells above to define project\n",
    "echo \"Navigate to project, then navigate to area wwhere files were cloned\"\n",
    "\n",
    "cd $project\n",
    "echo \"show the contents of README.md\"\n",
    "echo \"\"\n",
    "\n",
    "cat README.md  # show contents of file, in this case markdown\n",
    "echo \"\"\n",
    "echo \"end of README.md\""
   ]
  },
  {
   "cell_type": "code",
   "execution_count": 7,
   "metadata": {
    "vscode": {
     "languageId": "shellscript"
    }
   },
   "outputs": [
    {
     "name": "stdout",
     "output_type": "stream",
     "text": [
      "Show the shell environment variables, key on left of equal value on right\n",
      "\n",
      "SHELL=/bin/bash\n",
      "PYTHONUNBUFFERED=1\n",
      "WSL2_GUI_APPS_ENABLED=1\n",
      "project=/home/kkcbal/vscode/Asher\n",
      "CONDA_EXE=/home/kkcbal/anaconda3/bin/conda\n",
      "_CE_M=\n",
      "APPLICATION_INSIGHTS_NO_DIAGNOSTIC_CHANNEL=1\n",
      "WSL_DISTRO_NAME=Ubuntu\n",
      "ELECTRON_RUN_AS_NODE=1\n",
      "VSCODE_AMD_ENTRYPOINT=vs/workbench/api/node/extensionHostProcess\n",
      "NAME=big-man-upstairs\n",
      "PWD=/home/kkcbal/vscode/Asher\n",
      "NIX_PROFILES=/nix/var/nix/profiles/default /home/kkcbal/.nix-profile\n",
      "LOGNAME=kkcbal\n",
      "CONDA_PREFIX=/home/kkcbal/anaconda3\n",
      "MOTD_SHOWN=update-motd\n",
      "RECOMMENDER_API_URL=https://gw.api.openshift.io//api/v2\n",
      "NOTEBOOK_BASH_KERNEL_CAPABILITIES=image,html,javascript\n",
      "project_dir=/home/kkcbal/vscode\n",
      "HOME=/home/kkcbal\n",
      "LANG=C.UTF-8\n",
      "WSL_INTEROP=/run/WSL/12_interop\n",
      "LS_COLORS=rs=0:di=01;34:ln=01;36:mh=00:pi=40;33:so=01;35:do=01;35:bd=40;33;01:cd=40;33;01:or=40;31;01:mi=00:su=37;41:sg=30;43:ca=30;41:tw=30;42:ow=34;42:st=37;44:ex=01;32:*.tar=01;31:*.tgz=01;31:*.arc=01;31:*.arj=01;31:*.taz=01;31:*.lha=01;31:*.lz4=01;31:*.lzh=01;31:*.lzma=01;31:*.tlz=01;31:*.txz=01;31:*.tzo=01;31:*.t7z=01;31:*.zip=01;31:*.z=01;31:*.dz=01;31:*.gz=01;31:*.lrz=01;31:*.lz=01;31:*.lzo=01;31:*.xz=01;31:*.zst=01;31:*.tzst=01;31:*.bz2=01;31:*.bz=01;31:*.tbz=01;31:*.tbz2=01;31:*.tz=01;31:*.deb=01;31:*.rpm=01;31:*.jar=01;31:*.war=01;31:*.ear=01;31:*.sar=01;31:*.rar=01;31:*.alz=01;31:*.ace=01;31:*.zoo=01;31:*.cpio=01;31:*.7z=01;31:*.rz=01;31:*.cab=01;31:*.wim=01;31:*.swm=01;31:*.dwm=01;31:*.esd=01;31:*.jpg=01;35:*.jpeg=01;35:*.mjpg=01;35:*.mjpeg=01;35:*.gif=01;35:*.bmp=01;35:*.pbm=01;35:*.pgm=01;35:*.ppm=01;35:*.tga=01;35:*.xbm=01;35:*.xpm=01;35:*.tif=01;35:*.tiff=01;35:*.png=01;35:*.svg=01;35:*.svgz=01;35:*.mng=01;35:*.pcx=01;35:*.mov=01;35:*.mpg=01;35:*.mpeg=01;35:*.m2v=01;35:*.mkv=01;35:*.webm=01;35:*.webp=01;35:*.ogm=01;35:*.mp4=01;35:*.m4v=01;35:*.mp4v=01;35:*.vob=01;35:*.qt=01;35:*.nuv=01;35:*.wmv=01;35:*.asf=01;35:*.rm=01;35:*.rmvb=01;35:*.flc=01;35:*.avi=01;35:*.fli=01;35:*.flv=01;35:*.gl=01;35:*.dl=01;35:*.xcf=01;35:*.xwd=01;35:*.yuv=01;35:*.cgm=01;35:*.emf=01;35:*.ogv=01;35:*.ogx=01;35:*.aac=00;36:*.au=00;36:*.flac=00;36:*.m4a=00;36:*.mid=00;36:*.midi=00;36:*.mka=00;36:*.mp3=00;36:*.mpc=00;36:*.ogg=00;36:*.ra=00;36:*.wav=00;36:*.oga=00;36:*.opus=00;36:*.spx=00;36:*.xspf=00;36:\n",
      "UTM_SOURCE=vscode\n",
      "WAYLAND_DISPLAY=wayland-0\n",
      "NIX_SSL_CERT_FILE=/etc/ssl/certs/ca-certificates.crt\n",
      "THREE_SCALE_USER_TOKEN=207c527cfc2a6b8dcf4fa43ad7a976da\n",
      "CONDA_PROMPT_MODIFIER=(base) \n",
      "PYDEVD_USE_FRAME_EVAL=NO\n",
      "VSCODE_L10N_BUNDLE_LOCATION=\n",
      "posts=/home/kkcbal/vscode/Asher/_posts\n",
      "UUID=8dbe7f9c-788f-4a1a-9647-9416b7e56f79\n",
      "GEM_HOME=/home/kkcbal/gems\n",
      "LESSCLOSE=/usr/bin/lesspipe %s %s\n",
      "VSCODE_HANDLES_SIGPIPE=true\n",
      "TELEMETRY_ID=6ad85175-4141-4e50-8e18-eb3ae055a779\n",
      "TERM=xterm-256color\n",
      "_CE_CONDA=\n",
      "LESSOPEN=| /usr/bin/lesspipe %s\n",
      "USER=kkcbal\n",
      "PYTHONIOENCODING=utf-8\n",
      "notebooks=/home/kkcbal/vscode/Asher/_notebooks\n",
      "CONDA_SHLVL=1\n",
      "DISPLAY=:0\n",
      "SHLVL=1\n",
      "GOLANG_EXECUTABLE=go\n",
      "PAGER=cat\n",
      "project_repo=https://github.com/KKcbal/Asher\n",
      "VSCODE_CWD=/mnt/c/Users/marle/AppData/Local/Programs/Microsoft VS Code\n",
      "CONDA_PYTHON_EXE=/home/kkcbal/anaconda3/bin/python\n",
      "XDG_RUNTIME_DIR=/mnt/wslg/runtime-dir\n",
      "PS1=[PEXP\\[\\]ECT_PROMPT>\n",
      "CONDA_DEFAULT_ENV=base\n",
      "WSLENV=VSCODE_WSL_EXT_LOCATION/up\n",
      "PROVIDE_FULLSTACK_ACTION=true\n",
      "VSCODE_WSL_EXT_LOCATION=/mnt/c/Users/marle/.vscode/extensions/ms-vscode-remote.remote-wsl-0.81.0\n",
      "XDG_DATA_DIRS=/usr/local/share:/usr/share:/var/lib/snapd/desktop\n",
      "PATH=/home/kkcbal/gems/bin:/home/kkcbal/.vscode-server/bin/6c3e3dba23e8fadc360aed75ce363ba185c49794/bin/remote-cli:/home/kkcbal/.nix-profile/bin:/home/kkcbal/gems/bin:/home/kkcbal/anaconda3/bin:/home/kkcbal/anaconda3/condabin:/usr/local/sbin:/usr/local/bin:/usr/sbin:/usr/bin:/sbin:/bin:/usr/games:/usr/local/games:/usr/lib/wsl/lib:/mnt/c/Program Files/Microsoft/jdk-11.0.16.101-hotspot/bin:/mnt/c/WINDOWS/system32:/mnt/c/WINDOWS:/mnt/c/WINDOWS/System32/Wbem:/mnt/c/WINDOWS/System32/WindowsPowerShell/v1.0:/mnt/c/WINDOWS/System32/OpenSSH:/mnt/c/Program Files/Docker/Docker/resources/bin:/mnt/c/Program Files/dotnet:/mnt/c/Program Files/Microsoft SQL Server/150/Tools/Binn:/mnt/c/Program Files/Microsoft SQL Server/Client SDK/ODBC/170/Tools/Binn:/mnt/c/Users/marle/AppData/Local/Microsoft/WindowsApps:/mnt/c/Users/marle/AppData/Local/Programs/Microsoft VS Code/bin:/mnt/c/Users/marle/.dotnet/tools:/snap/bin\n",
      "VSCODE_NLS_CONFIG={\"locale\":\"en\",\"osLocale\":\"en\",\"availableLanguages\":{}}\n",
      "HOSTTYPE=x86_64\n",
      "PULSE_SERVER=unix:/mnt/wslg/PulseServer\n",
      "VSCODE_HANDLES_UNCAUGHT_ERRORS=true\n",
      "OLDPWD=/home/kkcbal/vscode/Asher/_notebooks\n",
      "VSCODE_IPC_HOOK_CLI=/mnt/wslg/runtime-dir/vscode-ipc-1c25d454-c5a8-4976-a500-b5b5ac1339cc.sock\n",
      "_=/usr/bin/env\n"
     ]
    }
   ],
   "source": [
    "# This command has no dependencies\n",
    "\n",
    "echo \"Show the shell environment variables, key on left of equal value on right\"\n",
    "echo \"\"\n",
    "\n",
    "env"
   ]
  },
  {
   "cell_type": "code",
   "execution_count": 8,
   "metadata": {
    "vscode": {
     "languageId": "shellscript"
    }
   },
   "outputs": [
    {
     "name": "stdout",
     "output_type": "stream",
     "text": [
      "\n",
      "show the secrets of .git\n",
      "total 60\n",
      "-rw-r--r--  1 kkcbal kkcbal    7 Aug 23 12:42 COMMIT_EDITMSG\n",
      "-rw-r--r--  1 kkcbal kkcbal   91 Aug 23 12:42 FETCH_HEAD\n",
      "-rw-r--r--  1 kkcbal kkcbal   21 Aug 18 11:31 HEAD\n",
      "-rw-r--r--  1 kkcbal kkcbal   41 Aug 23 12:42 ORIG_HEAD\n",
      "drwxr-xr-x  2 kkcbal kkcbal 4096 Aug 18 11:31 \u001b[0m\u001b[01;34mbranches\u001b[0m\n",
      "-rw-r--r--  1 kkcbal kkcbal  256 Aug 18 11:31 config\n",
      "-rw-r--r--  1 kkcbal kkcbal   73 Aug 18 11:31 description\n",
      "drwxr-xr-x  2 kkcbal kkcbal 4096 Aug 18 11:31 \u001b[01;34mhooks\u001b[0m\n",
      "-rw-r--r--  1 kkcbal kkcbal 4330 Aug 23 12:42 index\n",
      "drwxr-xr-x  2 kkcbal kkcbal 4096 Aug 18 11:31 \u001b[01;34minfo\u001b[0m\n",
      "drwxr-xr-x  3 kkcbal kkcbal 4096 Aug 18 11:31 \u001b[01;34mlogs\u001b[0m\n",
      "drwxr-xr-x 21 kkcbal kkcbal 4096 Aug 23 12:42 \u001b[01;34mobjects\u001b[0m\n",
      "-rw-r--r--  1 kkcbal kkcbal  112 Aug 18 11:31 packed-refs\n",
      "drwxr-xr-x  5 kkcbal kkcbal 4096 Aug 18 11:31 \u001b[01;34mrefs\u001b[0m\n",
      "\n",
      "look at config file\n",
      "[core]\n",
      "\trepositoryformatversion = 0\n",
      "\tfilemode = true\n",
      "\tbare = false\n",
      "\tlogallrefupdates = true\n",
      "[remote \"origin\"]\n",
      "\turl = https://github.com/KKcbal/Asher.git\n",
      "\tfetch = +refs/heads/*:refs/remotes/origin/*\n",
      "[branch \"main\"]\n",
      "\tremote = origin\n",
      "\tmerge = refs/heads/main\n"
     ]
    }
   ],
   "source": [
    "# This command has dependencies on project\n",
    "\n",
    "cd $project\n",
    "\n",
    "echo \"\"\n",
    "echo \"show the secrets of .git\"\n",
    "cd .git\n",
    "ls -l\n",
    "\n",
    "echo \"\"\n",
    "echo \"look at config file\"\n",
    "cat config"
   ]
  },
  {
   "cell_type": "code",
   "execution_count": 9,
   "metadata": {
    "vscode": {
     "languageId": "shellscript"
    }
   },
   "outputs": [
    {
     "name": "stdout",
     "output_type": "stream",
     "text": [
      "\n",
      "File listing and status\n",
      "-rw-r--r-- 1 kkcbal kkcbal 809 Aug 24 11:25 sample.md\n",
      " 15 132 809 sample.md\n",
      "mdless: command not found\n"
     ]
    }
   ],
   "source": [
    "# This example has error in VSCode, it run best on Jupyter\n",
    "cd /tmp\n",
    "\n",
    "file=\"sample.md\"\n",
    "if [ -f \"$file\" ]; then\n",
    "    rm $file\n",
    "fi\n",
    "\n",
    "tee -a $file >/dev/null <<EOF\n",
    "# Show Generated Markdown\n",
    "This introductory paragraph and this line and the title above are generated using tee with the standard input (<<) redirection operator.\n",
    "- This bulleted element is still part of the tee body.\n",
    "EOF\n",
    "\n",
    "echo \"- This bulleted element and lines below are generated using echo with standard output (>>) redirection operator.\" >> $file\n",
    "echo \"- The list definition, as is, is using space to seperate lines.  Thus the use of commas and hyphens in output.\" >> $file\n",
    "actions=(\"ls,list-directory\" \"cd,change-directory\" \"pwd,present-working-directory\" \"if-then-fi,test-condition\" \"env,bash-environment-variables\" \"cat,view-file-contents\" \"tee,write-to-output\" \"echo,display-content-of-string\" \"echo_text_>\\$file,write-content-to-file\" \"echo_text_>>\\$file,append-content-to-file\")\n",
    "for action in ${actions[@]}; do  # for loop is very similar to other language, though [@], semi-colon, do are new\n",
    "  action=${action//-/ }  # convert dash to space\n",
    "  action=${action//,/: } # convert comma to colon\n",
    "  action=${action//_text_/ \\\"sample text\\\" } # convert _text_ to sample text, note escape character \\ to avoid \"\" having meaning\n",
    "  echo \"    - ${action//-/ }\" >> $file  # echo is redirected to file with >>\n",
    "done\n",
    "\n",
    "echo \"\"\n",
    "echo \"File listing and status\"\n",
    "ls -l $file # list file\n",
    "wc $file   # show words\n",
    "mdless $file  # this requires installation, but renders markown from terminal\n",
    "\n",
    "rm $file  # clean up termporary file"
   ]
  }
 ],
 "metadata": {
  "kernelspec": {
   "display_name": "Bash",
   "language": "bash",
   "name": "bash"
  },
  "language_info": {
   "codemirror_mode": "shell",
   "file_extension": ".sh",
   "mimetype": "text/x-sh",
   "name": "bash"
  },
  "orig_nbformat": 4,
  "vscode": {
   "interpreter": {
    "hash": "916dbcbb3f70747c44a77c7bcd40155683ae19c65e1c03b4aa3499c5328201f1"
   }
  }
 },
 "nbformat": 4,
 "nbformat_minor": 2
}
